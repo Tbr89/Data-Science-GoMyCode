{
 "cells": [
  {
   "cell_type": "code",
   "execution_count": null,
   "id": "446af355-086f-40fa-9f15-8d6ea6eafa22",
   "metadata": {
    "scrolled": true
   },
   "outputs": [
    {
     "name": "stdout",
     "output_type": "stream",
     "text": [
      "Welcome to Python Pizza Deliveries\n"
     ]
    }
   ],
   "source": [
    "print (\"Welcome to Python Pizza Deliveries\")\n",
    "size = input (\"What's the size do you want for your pizza ?\")\n",
    "add_pepperoni = input (\"Do you want to add pepperoni?\")\n",
    "extra_cheese = input (\"Do you want extra cheese?\")"
   ]
  },
  {
   "cell_type": "code",
   "execution_count": null,
   "id": "b39fd8ef-e60c-44b0-a8a2-2c0a5a39d9c9",
   "metadata": {},
   "outputs": [],
   "source": [
    "if size == \"small\" :\n",
    "    price1 = 15\n",
    "elif size == \"medium\" :\n",
    "    price1 = 20\n",
    "elif size== \"large\":\n",
    "    price1 = 25 \n"
   ]
  },
  {
   "cell_type": "code",
   "execution_count": null,
   "id": "daffeec5-4b79-4f1b-9b2d-b1b2c61b67a7",
   "metadata": {},
   "outputs": [],
   "source": [
    "supplement1 = 0\n",
    "if size == \"small\" and add_pepperoni == \"yes\" :\n",
    "    supplement1 = 2\n",
    "elif size == \"medium\" or size == \"large\" and add_pepperoni == \"yes\" :\n",
    "    supplement1 = 3"
   ]
  },
  {
   "cell_type": "code",
   "execution_count": null,
   "id": "ee734e2f-2b5e-49f3-9d52-742a1595349b",
   "metadata": {},
   "outputs": [],
   "source": [
    "supplement2 = 0\n",
    "if extra_cheese == \"yes\" :\n",
    "    supplement2 = 1\n",
    "else :\n",
    "    supplement2 = 0"
   ]
  },
  {
   "cell_type": "code",
   "execution_count": null,
   "id": "2491a15a-34c8-4416-a30b-24230830a4bd",
   "metadata": {},
   "outputs": [],
   "source": [
    "final_bill= price1 + supplement1 + supplement2\n",
    "print (\"your final bill is \", final_bill)"
   ]
  },
  {
   "cell_type": "code",
   "execution_count": null,
   "id": "52bd3c1a-6c19-457a-9ace-ba0797d98cab",
   "metadata": {},
   "outputs": [],
   "source": []
  },
  {
   "cell_type": "code",
   "execution_count": null,
   "id": "b82a0d40-4cea-410b-a4ec-fdd5eb5621b1",
   "metadata": {},
   "outputs": [],
   "source": []
  },
  {
   "cell_type": "code",
   "execution_count": null,
   "id": "5e4bf0a0-8c45-4d7a-a05c-cd817574bcda",
   "metadata": {},
   "outputs": [],
   "source": []
  },
  {
   "cell_type": "code",
   "execution_count": null,
   "id": "1f1e0eee-695a-49c5-b307-71c47efcdb59",
   "metadata": {},
   "outputs": [],
   "source": []
  }
 ],
 "metadata": {
  "kernelspec": {
   "display_name": "Python 3 (ipykernel)",
   "language": "python",
   "name": "python3"
  },
  "language_info": {
   "codemirror_mode": {
    "name": "ipython",
    "version": 3
   },
   "file_extension": ".py",
   "mimetype": "text/x-python",
   "name": "python",
   "nbconvert_exporter": "python",
   "pygments_lexer": "ipython3",
   "version": "3.11.7"
  }
 },
 "nbformat": 4,
 "nbformat_minor": 5
}
