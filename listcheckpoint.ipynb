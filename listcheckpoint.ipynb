{
 "cells": [
  {
   "cell_type": "code",
   "execution_count": 50,
   "id": "9f21be4c-7527-4846-8738-ec1e6fb2dc76",
   "metadata": {},
   "outputs": [
    {
     "name": "stdin",
     "output_type": "stream",
     "text": [
      "Faites entrez le nombre de notes 3\n"
     ]
    },
    {
     "name": "stdout",
     "output_type": "stream",
     "text": [
      "Quelle est la 1 ère note?\n"
     ]
    },
    {
     "name": "stdin",
     "output_type": "stream",
     "text": [
      " 2\n"
     ]
    },
    {
     "name": "stdout",
     "output_type": "stream",
     "text": [
      "Quelle est la 2 ème note?\n"
     ]
    },
    {
     "name": "stdin",
     "output_type": "stream",
     "text": [
      " 4\n"
     ]
    },
    {
     "name": "stdout",
     "output_type": "stream",
     "text": [
      "Quelle est la 3 ème note?\n"
     ]
    },
    {
     "name": "stdin",
     "output_type": "stream",
     "text": [
      " 1\n"
     ]
    },
    {
     "name": "stdout",
     "output_type": "stream",
     "text": [
      "[2.0, 4.0, 1.0]\n"
     ]
    }
   ],
   "source": [
    "liste_notes = []\n",
    "n = int(input(\"Faites entrez le nombre de notes\"))\n",
    "for i in range (1,n+1) :\n",
    "    if i == 1 :\n",
    "        print(\"Quelle est la\",i,\"ère note?\")\n",
    "        a = float(input())\n",
    "        liste_notes.append(a)\n",
    "    if i > 1 and i <= n+1 :\n",
    "        print(\"Quelle est la\",i,\"ème note?\")\n",
    "        a = float(input())\n",
    "        liste_notes.append(a)\n",
    "print (liste_notes)\n",
    "\n"
   ]
  },
  {
   "cell_type": "code",
   "execution_count": null,
   "id": "31cbea39-fdb6-459b-aca4-bfb6393418eb",
   "metadata": {},
   "outputs": [],
   "source": []
  },
  {
   "cell_type": "code",
   "execution_count": null,
   "id": "973f566e-70da-4394-ab62-b5ba21e69976",
   "metadata": {},
   "outputs": [],
   "source": []
  }
 ],
 "metadata": {
  "kernelspec": {
   "display_name": "Python 3 (ipykernel)",
   "language": "python",
   "name": "python3"
  },
  "language_info": {
   "codemirror_mode": {
    "name": "ipython",
    "version": 3
   },
   "file_extension": ".py",
   "mimetype": "text/x-python",
   "name": "python",
   "nbconvert_exporter": "python",
   "pygments_lexer": "ipython3",
   "version": "3.11.7"
  }
 },
 "nbformat": 4,
 "nbformat_minor": 5
}
