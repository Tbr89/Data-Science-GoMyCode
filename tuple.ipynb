{
 "cells": [
  {
   "cell_type": "code",
   "execution_count": 11,
   "id": "09aed2c5-efd6-4925-977f-46935e33cde6",
   "metadata": {},
   "outputs": [
    {
     "name": "stdin",
     "output_type": "stream",
     "text": [
      "Faites entrez le nombre de notes 3\n"
     ]
    },
    {
     "name": "stdout",
     "output_type": "stream",
     "text": [
      "Quelle est la 1 ère note?\n"
     ]
    },
    {
     "name": "stdin",
     "output_type": "stream",
     "text": [
      " 1\n"
     ]
    },
    {
     "name": "stdout",
     "output_type": "stream",
     "text": [
      "Quelle est la 2 ème note?\n"
     ]
    },
    {
     "name": "stdin",
     "output_type": "stream",
     "text": [
      " 2\n"
     ]
    },
    {
     "name": "stdout",
     "output_type": "stream",
     "text": [
      "Quelle est la 3 ème note?\n"
     ]
    },
    {
     "name": "stdin",
     "output_type": "stream",
     "text": [
      " 3\n"
     ]
    },
    {
     "name": "stdout",
     "output_type": "stream",
     "text": [
      "La 1 ère note est 1.0\n",
      "La 2 ème note est 2.0\n",
      "La 3 ème note est 3.0\n"
     ]
    }
   ],
   "source": [
    "tuple_notes = ()\n",
    "n = int(input(\"Faites entrez le nombre de notes\"))\n",
    "for i in range (1,n+1) :\n",
    "    if i == 1 :\n",
    "        print(\"Quelle est la\",i,\"ère note?\")\n",
    "        a = float(input())\n",
    "        tuple_notes = tuple_notes + (a,)\n",
    "        \n",
    "    else :\n",
    "        print(\"Quelle est la\",i,\"ème note?\")\n",
    "        a = float(input())\n",
    "        tuple_notes += (a,)\n",
    "   \n",
    "for i in range (1,n+1) :\n",
    "    if i == 1 :\n",
    "        print(\"La\",i,\"ère note est\", tuple_notes[i-1])\n",
    "\n",
    "    else :\n",
    "        print(\"La\",i,\"ème note est\", tuple_notes[i-1])\n",
    "\n",
    "\n",
    "\n"
   ]
  },
  {
   "cell_type": "code",
   "execution_count": null,
   "id": "0fd75dcd-a48c-43e7-a22f-150b5ae5c3e1",
   "metadata": {},
   "outputs": [],
   "source": []
  },
  {
   "cell_type": "code",
   "execution_count": null,
   "id": "65e4e59a-19ce-448b-ad47-354d52d9ed53",
   "metadata": {},
   "outputs": [],
   "source": []
  }
 ],
 "metadata": {
  "kernelspec": {
   "display_name": "Python 3 (ipykernel)",
   "language": "python",
   "name": "python3"
  },
  "language_info": {
   "codemirror_mode": {
    "name": "ipython",
    "version": 3
   },
   "file_extension": ".py",
   "mimetype": "text/x-python",
   "name": "python",
   "nbconvert_exporter": "python",
   "pygments_lexer": "ipython3",
   "version": "3.11.7"
  }
 },
 "nbformat": 4,
 "nbformat_minor": 5
}
