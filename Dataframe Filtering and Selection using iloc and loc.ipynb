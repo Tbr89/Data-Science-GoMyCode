{
 "cells": [
  {
   "cell_type": "code",
   "execution_count": 4,
   "id": "252a74df",
   "metadata": {},
   "outputs": [
    {
     "name": "stdout",
     "output_type": "stream",
     "text": [
      "    Name Department  Age  Gender  Salary  Experience\n",
      "0   John         IT   30    Male   50000           3\n",
      "1   Mary  Marketing   40  Female   60000           7\n",
      "2    Bob      Sales   25    Male   45000           2\n",
      "3  Sarah         IT   35  Female   55000           5\n",
      "4    Tom    Finance   45    Male   70000          10\n",
      "5   Lisa  Marketing   28  Female   55000           4\n"
     ]
    }
   ],
   "source": [
    "import pandas as pd\n",
    "\n",
    "data = {'Name': ['John', 'Mary', 'Bob', 'Sarah', 'Tom', 'Lisa'], 'Department': ['IT', 'Marketing', 'Sales', 'IT', 'Finance', 'Marketing'], 'Age': [30, 40, 25, 35, 45, 28], 'Gender': ['Male', 'Female', 'Male', 'Female', 'Male', 'Female'], 'Salary': [50000, 60000, 45000, 55000, 70000, 55000], 'Experience': [3, 7, 2, 5, 10, 4]}\n",
    "\n",
    "employee_df = pd.DataFrame(data)\n",
    "\n",
    "print(employee_df)"
   ]
  },
  {
   "cell_type": "code",
   "execution_count": 6,
   "id": "55e9e1a0",
   "metadata": {},
   "outputs": [
    {
     "name": "stdout",
     "output_type": "stream",
     "text": [
      "   Name Department  Age  Gender  Salary  Experience\n",
      "0  John         IT   30    Male   50000           3\n",
      "1  Mary  Marketing   40  Female   60000           7\n",
      "2   Bob      Sales   25    Male   45000           2\n"
     ]
    }
   ],
   "source": [
    "#Use the iloc method to select the first 3 rows of the dataframe.\n",
    "first = employee_df.iloc[:3,:]\n",
    "print(first)"
   ]
  },
  {
   "cell_type": "code",
   "execution_count": 18,
   "id": "c3cc7c9a",
   "metadata": {},
   "outputs": [
    {
     "name": "stdout",
     "output_type": "stream",
     "text": [
      "   Name Department  Age  Gender  Salary  Experience\n",
      "1  Mary  Marketing   40  Female   60000           7\n",
      "5  Lisa  Marketing   28  Female   55000           4\n"
     ]
    }
   ],
   "source": [
    "#Use the loc method to select all rows where the Department is \"Marketing\".\n",
    "\n",
    "second = employee_df.loc[employee_df['Department']== 'Marketing']\n",
    "print(second)"
   ]
  },
  {
   "cell_type": "code",
   "execution_count": 25,
   "id": "f20b8cdf",
   "metadata": {},
   "outputs": [
    {
     "name": "stdout",
     "output_type": "stream",
     "text": [
      "   Age  Gender\n",
      "0   30    Male\n",
      "1   40  Female\n",
      "2   25    Male\n",
      "3   35  Female\n"
     ]
    }
   ],
   "source": [
    "#Use the iloc method to select the Age and Gender columns for the first 4 rows of the dataframe.\n",
    "third = employee_df.iloc[:4,2:4]\n",
    "print(third)"
   ]
  },
  {
   "cell_type": "code",
   "execution_count": 28,
   "id": "21dd809e",
   "metadata": {},
   "outputs": [
    {
     "name": "stdout",
     "output_type": "stream",
     "text": [
      "   Salary  Experience\n",
      "0   50000           3\n",
      "2   45000           2\n",
      "4   70000          10\n"
     ]
    }
   ],
   "source": [
    "#Use the loc method to select the Salary and Experience columns for all rows where the Gender is \"Male\".\n",
    "fourth = employee_df.loc[employee_df['Gender']=='Male' , ['Salary','Experience']]\n",
    "print(fourth)"
   ]
  },
  {
   "cell_type": "code",
   "execution_count": null,
   "id": "bd4edaed",
   "metadata": {},
   "outputs": [],
   "source": []
  }
 ],
 "metadata": {
  "kernelspec": {
   "display_name": "Python 3 (ipykernel)",
   "language": "python",
   "name": "python3"
  },
  "language_info": {
   "codemirror_mode": {
    "name": "ipython",
    "version": 3
   },
   "file_extension": ".py",
   "mimetype": "text/x-python",
   "name": "python",
   "nbconvert_exporter": "python",
   "pygments_lexer": "ipython3",
   "version": "3.11.7"
  }
 },
 "nbformat": 4,
 "nbformat_minor": 5
}
