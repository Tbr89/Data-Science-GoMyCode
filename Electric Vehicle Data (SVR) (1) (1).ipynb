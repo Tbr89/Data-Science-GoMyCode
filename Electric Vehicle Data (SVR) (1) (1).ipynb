{
 "cells": [
  {
   "cell_type": "code",
   "execution_count": 2,
   "id": "06d2c448-e1f5-4bbe-be05-ac4b793f5ae5",
   "metadata": {},
   "outputs": [
    {
     "data": {
      "text/html": [
       "<div>\n",
       "<style scoped>\n",
       "    .dataframe tbody tr th:only-of-type {\n",
       "        vertical-align: middle;\n",
       "    }\n",
       "\n",
       "    .dataframe tbody tr th {\n",
       "        vertical-align: top;\n",
       "    }\n",
       "\n",
       "    .dataframe thead th {\n",
       "        text-align: right;\n",
       "    }\n",
       "</style>\n",
       "<table border=\"1\" class=\"dataframe\">\n",
       "  <thead>\n",
       "    <tr style=\"text-align: right;\">\n",
       "      <th></th>\n",
       "      <th>ID</th>\n",
       "      <th>VIN (1-10)</th>\n",
       "      <th>County</th>\n",
       "      <th>City</th>\n",
       "      <th>State</th>\n",
       "      <th>ZIP Code</th>\n",
       "      <th>Model Year</th>\n",
       "      <th>Make</th>\n",
       "      <th>Model</th>\n",
       "      <th>Electric Vehicle Type</th>\n",
       "      <th>Clean Alternative Fuel Vehicle (CAFV) Eligibility</th>\n",
       "      <th>Electric Range</th>\n",
       "      <th>Base MSRP</th>\n",
       "      <th>Legislative District</th>\n",
       "      <th>DOL Vehicle ID</th>\n",
       "      <th>Vehicle Location</th>\n",
       "      <th>Electric Utility</th>\n",
       "      <th>Expected Price ($1k)</th>\n",
       "    </tr>\n",
       "  </thead>\n",
       "  <tbody>\n",
       "    <tr>\n",
       "      <th>0</th>\n",
       "      <td>EV33174</td>\n",
       "      <td>5YJ3E1EC6L</td>\n",
       "      <td>Snohomish</td>\n",
       "      <td>LYNNWOOD</td>\n",
       "      <td>WA</td>\n",
       "      <td>98037.0</td>\n",
       "      <td>2020.0</td>\n",
       "      <td>TESLA</td>\n",
       "      <td>MODEL 3</td>\n",
       "      <td>Battery Electric Vehicle (BEV)</td>\n",
       "      <td>Clean Alternative Fuel Vehicle Eligible</td>\n",
       "      <td>308</td>\n",
       "      <td>0</td>\n",
       "      <td>32.0</td>\n",
       "      <td>109821694</td>\n",
       "      <td>POINT (-122.287614 47.83874)</td>\n",
       "      <td>PUGET SOUND ENERGY INC</td>\n",
       "      <td>50</td>\n",
       "    </tr>\n",
       "    <tr>\n",
       "      <th>1</th>\n",
       "      <td>EV40247</td>\n",
       "      <td>JN1AZ0CP8B</td>\n",
       "      <td>Skagit</td>\n",
       "      <td>BELLINGHAM</td>\n",
       "      <td>WA</td>\n",
       "      <td>98229.0</td>\n",
       "      <td>2011.0</td>\n",
       "      <td>NISSAN</td>\n",
       "      <td>LEAF</td>\n",
       "      <td>Battery Electric Vehicle (BEV)</td>\n",
       "      <td>Clean Alternative Fuel Vehicle Eligible</td>\n",
       "      <td>73</td>\n",
       "      <td>0</td>\n",
       "      <td>40.0</td>\n",
       "      <td>137375528</td>\n",
       "      <td>POINT (-122.414936 48.709388)</td>\n",
       "      <td>PUGET SOUND ENERGY INC</td>\n",
       "      <td>15</td>\n",
       "    </tr>\n",
       "    <tr>\n",
       "      <th>2</th>\n",
       "      <td>EV12248</td>\n",
       "      <td>WBY1Z2C56F</td>\n",
       "      <td>Pierce</td>\n",
       "      <td>TACOMA</td>\n",
       "      <td>WA</td>\n",
       "      <td>98422.0</td>\n",
       "      <td>2015.0</td>\n",
       "      <td>BMW</td>\n",
       "      <td>I3</td>\n",
       "      <td>Battery Electric Vehicle (BEV)</td>\n",
       "      <td>Clean Alternative Fuel Vehicle Eligible</td>\n",
       "      <td>81</td>\n",
       "      <td>0</td>\n",
       "      <td>27.0</td>\n",
       "      <td>150627382</td>\n",
       "      <td>POINT (-122.396286 47.293138)</td>\n",
       "      <td>BONNEVILLE POWER ADMINISTRATION||CITY OF TACOM...</td>\n",
       "      <td>18</td>\n",
       "    </tr>\n",
       "    <tr>\n",
       "      <th>3</th>\n",
       "      <td>EV55713</td>\n",
       "      <td>1G1RD6E44D</td>\n",
       "      <td>King</td>\n",
       "      <td>REDMOND</td>\n",
       "      <td>WA</td>\n",
       "      <td>98053.0</td>\n",
       "      <td>2013.0</td>\n",
       "      <td>CHEVROLET</td>\n",
       "      <td>VOLT</td>\n",
       "      <td>Plug-in Hybrid Electric Vehicle (PHEV)</td>\n",
       "      <td>Clean Alternative Fuel Vehicle Eligible</td>\n",
       "      <td>38</td>\n",
       "      <td>0</td>\n",
       "      <td>45.0</td>\n",
       "      <td>258766301</td>\n",
       "      <td>POINT (-122.024951 47.670286)</td>\n",
       "      <td>PUGET SOUND ENERGY INC||CITY OF TACOMA - (WA)</td>\n",
       "      <td>33.9</td>\n",
       "    </tr>\n",
       "    <tr>\n",
       "      <th>4</th>\n",
       "      <td>EV28799</td>\n",
       "      <td>1G1FY6S05K</td>\n",
       "      <td>Pierce</td>\n",
       "      <td>PUYALLUP</td>\n",
       "      <td>WA</td>\n",
       "      <td>98375.0</td>\n",
       "      <td>2019.0</td>\n",
       "      <td>CHEVROLET</td>\n",
       "      <td>BOLT EV</td>\n",
       "      <td>Battery Electric Vehicle (BEV)</td>\n",
       "      <td>Clean Alternative Fuel Vehicle Eligible</td>\n",
       "      <td>238</td>\n",
       "      <td>0</td>\n",
       "      <td>25.0</td>\n",
       "      <td>296998138</td>\n",
       "      <td>POINT (-122.321062 47.103797)</td>\n",
       "      <td>BONNEVILLE POWER ADMINISTRATION||CITY OF TACOM...</td>\n",
       "      <td>41.78</td>\n",
       "    </tr>\n",
       "  </tbody>\n",
       "</table>\n",
       "</div>"
      ],
      "text/plain": [
       "        ID  VIN (1-10)     County        City State  ZIP Code  Model Year  \\\n",
       "0  EV33174  5YJ3E1EC6L  Snohomish    LYNNWOOD    WA   98037.0      2020.0   \n",
       "1  EV40247  JN1AZ0CP8B     Skagit  BELLINGHAM    WA   98229.0      2011.0   \n",
       "2  EV12248  WBY1Z2C56F     Pierce      TACOMA    WA   98422.0      2015.0   \n",
       "3  EV55713  1G1RD6E44D       King     REDMOND    WA   98053.0      2013.0   \n",
       "4  EV28799  1G1FY6S05K     Pierce    PUYALLUP    WA   98375.0      2019.0   \n",
       "\n",
       "        Make    Model                   Electric Vehicle Type  \\\n",
       "0      TESLA  MODEL 3          Battery Electric Vehicle (BEV)   \n",
       "1     NISSAN     LEAF          Battery Electric Vehicle (BEV)   \n",
       "2        BMW       I3          Battery Electric Vehicle (BEV)   \n",
       "3  CHEVROLET     VOLT  Plug-in Hybrid Electric Vehicle (PHEV)   \n",
       "4  CHEVROLET  BOLT EV          Battery Electric Vehicle (BEV)   \n",
       "\n",
       "  Clean Alternative Fuel Vehicle (CAFV) Eligibility  Electric Range  \\\n",
       "0           Clean Alternative Fuel Vehicle Eligible             308   \n",
       "1           Clean Alternative Fuel Vehicle Eligible              73   \n",
       "2           Clean Alternative Fuel Vehicle Eligible              81   \n",
       "3           Clean Alternative Fuel Vehicle Eligible              38   \n",
       "4           Clean Alternative Fuel Vehicle Eligible             238   \n",
       "\n",
       "   Base MSRP  Legislative District  DOL Vehicle ID  \\\n",
       "0          0                  32.0       109821694   \n",
       "1          0                  40.0       137375528   \n",
       "2          0                  27.0       150627382   \n",
       "3          0                  45.0       258766301   \n",
       "4          0                  25.0       296998138   \n",
       "\n",
       "                Vehicle Location  \\\n",
       "0   POINT (-122.287614 47.83874)   \n",
       "1  POINT (-122.414936 48.709388)   \n",
       "2  POINT (-122.396286 47.293138)   \n",
       "3  POINT (-122.024951 47.670286)   \n",
       "4  POINT (-122.321062 47.103797)   \n",
       "\n",
       "                                    Electric Utility Expected Price ($1k)  \n",
       "0                             PUGET SOUND ENERGY INC                   50  \n",
       "1                             PUGET SOUND ENERGY INC                   15  \n",
       "2  BONNEVILLE POWER ADMINISTRATION||CITY OF TACOM...                   18  \n",
       "3      PUGET SOUND ENERGY INC||CITY OF TACOMA - (WA)                 33.9  \n",
       "4  BONNEVILLE POWER ADMINISTRATION||CITY OF TACOM...                41.78  "
      ]
     },
     "execution_count": 2,
     "metadata": {},
     "output_type": "execute_result"
    }
   ],
   "source": [
    "import pandas as pd\n",
    "df = pd.read_csv ('C:/Users/PC/Downloads/Electric_cars_dataset.csv')\n",
    "df.head()"
   ]
  },
  {
   "cell_type": "code",
   "execution_count": 3,
   "id": "a8108fbb-382c-4904-afbd-ceca47ab5672",
   "metadata": {},
   "outputs": [
    {
     "name": "stdout",
     "output_type": "stream",
     "text": [
      "<class 'pandas.core.frame.DataFrame'>\n",
      "RangeIndex: 64353 entries, 0 to 64352\n",
      "Data columns (total 18 columns):\n",
      " #   Column                                             Non-Null Count  Dtype  \n",
      "---  ------                                             --------------  -----  \n",
      " 0   ID                                                 64353 non-null  object \n",
      " 1   VIN (1-10)                                         64353 non-null  object \n",
      " 2   County                                             64349 non-null  object \n",
      " 3   City                                               64344 non-null  object \n",
      " 4   State                                              64342 non-null  object \n",
      " 5   ZIP Code                                           64347 non-null  float64\n",
      " 6   Model Year                                         64346 non-null  float64\n",
      " 7   Make                                               64349 non-null  object \n",
      " 8   Model                                              64340 non-null  object \n",
      " 9   Electric Vehicle Type                              64353 non-null  object \n",
      " 10  Clean Alternative Fuel Vehicle (CAFV) Eligibility  64353 non-null  object \n",
      " 11  Electric Range                                     64353 non-null  int64  \n",
      " 12  Base MSRP                                          64353 non-null  int64  \n",
      " 13  Legislative District                               64184 non-null  float64\n",
      " 14  DOL Vehicle ID                                     64353 non-null  int64  \n",
      " 15  Vehicle Location                                   63843 non-null  object \n",
      " 16  Electric Utility                                   63631 non-null  object \n",
      " 17  Expected Price ($1k)                               64353 non-null  object \n",
      "dtypes: float64(3), int64(3), object(12)\n",
      "memory usage: 8.8+ MB\n"
     ]
    }
   ],
   "source": [
    "df.info()"
   ]
  },
  {
   "cell_type": "code",
   "execution_count": null,
   "id": "9e6a7410",
   "metadata": {},
   "outputs": [],
   "source": []
  },
  {
   "cell_type": "code",
   "execution_count": 4,
   "id": "34ef693e-c9e6-4aea-8c1a-95f74db764d0",
   "metadata": {},
   "outputs": [
    {
     "data": {
      "text/plain": [
       "ID                                                     0\n",
       "VIN (1-10)                                             0\n",
       "County                                                 4\n",
       "City                                                   9\n",
       "State                                                 11\n",
       "ZIP Code                                               6\n",
       "Model Year                                             7\n",
       "Make                                                   4\n",
       "Model                                                 13\n",
       "Electric Vehicle Type                                  0\n",
       "Clean Alternative Fuel Vehicle (CAFV) Eligibility      0\n",
       "Electric Range                                         0\n",
       "Base MSRP                                              0\n",
       "Legislative District                                 169\n",
       "DOL Vehicle ID                                         0\n",
       "Vehicle Location                                     510\n",
       "Electric Utility                                     722\n",
       "Expected Price ($1k)                                   0\n",
       "dtype: int64"
      ]
     },
     "execution_count": 4,
     "metadata": {},
     "output_type": "execute_result"
    }
   ],
   "source": [
    "df.isnull().sum()"
   ]
  },
  {
   "cell_type": "code",
   "execution_count": 5,
   "id": "14cd3314-aafe-4393-98b6-9a0d3fc67063",
   "metadata": {},
   "outputs": [
    {
     "data": {
      "text/plain": [
       "County\n",
       "King         33552\n",
       "Snohomish     6920\n",
       "Pierce        4825\n",
       "Clark         3771\n",
       "Thurston      2446\n",
       "             ...  \n",
       "Duval            1\n",
       "Wilson           1\n",
       "Queens           1\n",
       "Placer           1\n",
       "Tipton           1\n",
       "Name: count, Length: 139, dtype: int64"
      ]
     },
     "execution_count": 5,
     "metadata": {},
     "output_type": "execute_result"
    }
   ],
   "source": [
    "df['County'].value_counts()"
   ]
  },
  {
   "cell_type": "code",
   "execution_count": 6,
   "id": "6d45824b-a5cf-4ed0-9ce1-e9a4b4e2c4c2",
   "metadata": {},
   "outputs": [
    {
     "data": {
      "text/plain": [
       "City\n",
       "FPO    3\n",
       "APO    1\n",
       "Name: count, dtype: int64"
      ]
     },
     "execution_count": 6,
     "metadata": {},
     "output_type": "execute_result"
    }
   ],
   "source": [
    "df.loc[df['County'].isnull(),'City'].value_counts()"
   ]
  },
  {
   "cell_type": "code",
   "execution_count": 7,
   "id": "d1e559c0-82b6-4e15-8398-2bc5669a74d9",
   "metadata": {},
   "outputs": [],
   "source": [
    "df.loc[(df['City'].isin(['FPO', 'APO'])) & df['County'].isna(), 'County'] = 'Military'"
   ]
  },
  {
   "cell_type": "code",
   "execution_count": 8,
   "id": "4eaf6fc2-afa8-4063-92f2-6f3e4faaf667",
   "metadata": {},
   "outputs": [
    {
     "data": {
      "text/plain": [
       "City\n",
       "SEATTLE          11887\n",
       "BELLEVUE          3354\n",
       "REDMOND           2448\n",
       "VANCOUVER         2303\n",
       "KIRKLAND          2086\n",
       "                 ...  \n",
       "ALISO VIEJO          1\n",
       "SOUTH PRAIRIE        1\n",
       "OCEAN CITY           1\n",
       "DESERT AIRE          1\n",
       "CHULA VISTA          1\n",
       "Name: count, Length: 544, dtype: int64"
      ]
     },
     "execution_count": 8,
     "metadata": {},
     "output_type": "execute_result"
    }
   ],
   "source": [
    "df['City'].value_counts()"
   ]
  },
  {
   "cell_type": "code",
   "execution_count": 9,
   "id": "d43d9c5b-c0a5-4297-a0bf-5d02da65153d",
   "metadata": {},
   "outputs": [
    {
     "data": {
      "text/plain": [
       "ZIP Code\n",
       "98052.0    2\n",
       "98502.0    2\n",
       "98346.0    1\n",
       "98312.0    1\n",
       "98513.0    1\n",
       "98908.0    1\n",
       "98008.0    1\n",
       "Name: count, dtype: int64"
      ]
     },
     "execution_count": 9,
     "metadata": {},
     "output_type": "execute_result"
    }
   ],
   "source": [
    "df.loc[df['City'].isnull(),'ZIP Code'].value_counts()"
   ]
  },
  {
   "cell_type": "code",
   "execution_count": 10,
   "id": "49326d29-f6db-43c5-ac1e-a9ae594f0ba0",
   "metadata": {},
   "outputs": [],
   "source": [
    "df.loc[(df['ZIP Code'] == 98052.0) & (df['City'].isna()) , 'City'] = 'REDMOND'"
   ]
  },
  {
   "cell_type": "code",
   "execution_count": 11,
   "id": "fa5dc35b-01af-4d6b-b0a4-e26935c75dc2",
   "metadata": {},
   "outputs": [],
   "source": [
    "df.loc[(df['ZIP Code'] == 98502.0) & (df['City'].isna()) , 'City'] = 'OLYMPIA'"
   ]
  },
  {
   "cell_type": "code",
   "execution_count": 12,
   "id": "2cd3ec27-5897-4170-a990-342eaca263f2",
   "metadata": {},
   "outputs": [],
   "source": [
    "df.loc[(df['ZIP Code'] == 98346.0) & (df['City'].isna()) , 'City'] = 'KINGSTON'"
   ]
  },
  {
   "cell_type": "code",
   "execution_count": 13,
   "id": "449d01ce-0ec9-41f8-b857-17b2569a8b8f",
   "metadata": {},
   "outputs": [],
   "source": [
    "df.loc[(df['ZIP Code'] == 98312.0) & (df['City'].isna()) , 'City'] = 'BREMERTON'"
   ]
  },
  {
   "cell_type": "code",
   "execution_count": 14,
   "id": "c414011a-6447-4b6d-b1df-b0036fb989a8",
   "metadata": {},
   "outputs": [],
   "source": [
    "df.loc[(df['ZIP Code'] == 98513.0) & (df['City'].isna()) , 'City'] = 'OLYMPIA'"
   ]
  },
  {
   "cell_type": "code",
   "execution_count": 15,
   "id": "dd60cdba-0731-4074-bc15-2f7e632c0150",
   "metadata": {},
   "outputs": [],
   "source": [
    "df.loc[(df['ZIP Code'] == 98908.0) & (df['City'].isna()) , 'City'] = 'YAKIMA'"
   ]
  },
  {
   "cell_type": "code",
   "execution_count": 16,
   "id": "9aac8c0b-a809-40c2-8f97-f14d449f9bf6",
   "metadata": {},
   "outputs": [],
   "source": [
    "df.loc[(df['ZIP Code'] == 98008.0) & (df['City'].isna()) , 'City'] = 'BELLEVUE'"
   ]
  },
  {
   "cell_type": "code",
   "execution_count": 17,
   "id": "98d3de74-1157-4d60-be2d-0e61ba070da7",
   "metadata": {},
   "outputs": [
    {
     "data": {
      "text/plain": [
       "State\n",
       "WA    64168\n",
       "CA       40\n",
       "MD       22\n",
       "VA       21\n",
       "TX       11\n",
       "OR        6\n",
       "FL        5\n",
       "NV        5\n",
       "NC        5\n",
       "PA        4\n",
       "IL        4\n",
       "HI        4\n",
       "GA        4\n",
       "DC        3\n",
       "NE        3\n",
       "TN        3\n",
       "AP        3\n",
       "NY        3\n",
       "CT        3\n",
       "MA        2\n",
       "IN        2\n",
       "NJ        2\n",
       "MT        2\n",
       "KS        2\n",
       "NM        2\n",
       "WI        1\n",
       "LA        1\n",
       "UT        1\n",
       "SD        1\n",
       "MO        1\n",
       "AK        1\n",
       "PR        1\n",
       "AE        1\n",
       "DE        1\n",
       "WY        1\n",
       "RI        1\n",
       "MS        1\n",
       "AZ        1\n",
       "Name: count, dtype: int64"
      ]
     },
     "execution_count": 17,
     "metadata": {},
     "output_type": "execute_result"
    }
   ],
   "source": [
    "df['State'].value_counts()"
   ]
  },
  {
   "cell_type": "code",
   "execution_count": 18,
   "id": "5f074568-41bf-46ac-9613-58a31667561c",
   "metadata": {},
   "outputs": [
    {
     "data": {
      "text/plain": [
       "City\n",
       "LACEY                2\n",
       "SEATTLE              2\n",
       "EDMONDS              1\n",
       "CHUGIAK              1\n",
       "BOTHELL              1\n",
       "BAINBRIDGE ISLAND    1\n",
       "YAKIMA               1\n",
       "VASHON               1\n",
       "BREMERTON            1\n",
       "Name: count, dtype: int64"
      ]
     },
     "execution_count": 18,
     "metadata": {},
     "output_type": "execute_result"
    }
   ],
   "source": [
    "df.loc[df['State'].isnull(),'City'].value_counts()"
   ]
  },
  {
   "cell_type": "code",
   "execution_count": 19,
   "id": "d70564cf-a461-45df-991f-409af792f3f7",
   "metadata": {},
   "outputs": [],
   "source": [
    "df.loc[(df['City'] == 'LACEY') & (df['State'].isna()) , 'State'] = 'WA'\n",
    "df.loc[(df['City'] == 'SEATTLE') & (df['State'].isna()) , 'State'] = 'WA'\n",
    "df.loc[(df['City'] == 'EDMONDS') & (df['State'].isna()) , 'State'] = 'WA'\n",
    "df.loc[(df['City'] == 'CHUGIAK') & (df['State'].isna()) , 'State'] = 'AK'\n",
    "df.loc[(df['City'] == 'BOTHELL') & (df['State'].isna()) , 'State'] = 'WA'\n",
    "df.loc[(df['City'] == 'BAINBRIDGE ISLAND') & (df['State'].isna()) , 'State'] = 'WA'\n",
    "df.loc[(df['City'] == 'YAKIMA') & (df['State'].isna()) , 'State'] = 'WA'\n",
    "df.loc[(df['City'] == 'VASHON') & (df['State'].isna()) , 'State'] = 'WA'\n",
    "df.loc[(df['City'] == 'BREMERTON') & (df['State'].isna()) , 'State'] = 'WA'"
   ]
  },
  {
   "cell_type": "code",
   "execution_count": 20,
   "id": "d549a8e4-feae-47ef-9028-860ae32a0985",
   "metadata": {},
   "outputs": [
    {
     "data": {
      "text/plain": [
       "ZIP Code\n",
       "98115.0    1105\n",
       "98103.0     897\n",
       "98117.0     672\n",
       "98112.0     653\n",
       "98109.0     650\n",
       "98105.0     598\n",
       "98125.0     577\n",
       "98118.0     572\n",
       "98122.0     544\n",
       "98144.0     533\n",
       "98199.0     516\n",
       "98107.0     418\n",
       "98116.0     417\n",
       "98104.0     375\n",
       "98119.0     365\n",
       "98102.0     351\n",
       "98126.0     344\n",
       "98121.0     310\n",
       "98136.0     280\n",
       "98101.0     260\n",
       "98106.0     258\n",
       "98133.0     249\n",
       "98108.0     238\n",
       "98178.0     214\n",
       "98177.0     210\n",
       "98146.0     168\n",
       "98168.0      57\n",
       "98134.0      42\n",
       "98124.0       6\n",
       "98164.0       4\n",
       "98148.0       2\n",
       "Name: count, dtype: int64"
      ]
     },
     "execution_count": 20,
     "metadata": {},
     "output_type": "execute_result"
    }
   ],
   "source": [
    "df.loc[df['City'] == 'SEATTLE','ZIP Code'].value_counts()\n"
   ]
  },
  {
   "cell_type": "code",
   "execution_count": 21,
   "id": "6d812b04-9b19-43a0-a493-5cda52c9f649",
   "metadata": {},
   "outputs": [],
   "source": [
    "seattle_zip_codes = df.loc[df['City'] == 'SEATTLE', 'ZIP Code']\n",
    "zip_code_mode = seattle_zip_codes.mode()\n",
    "\n",
    "# Vérifier si la mode est trouvée\n",
    "if not zip_code_mode.empty:\n",
    "    mode_value = zip_code_mode[0]\n",
    "    \n",
    "# Remplacer les valeurs manquantes avec la mode calculée\n",
    "df.loc[(df['City'] == 'SEATTLE') & (df['ZIP Code'].isna()), 'ZIP Code'] = mode_value\n"
   ]
  },
  {
   "cell_type": "code",
   "execution_count": 22,
   "id": "b5f3f25b-e3ce-438a-86a3-e2cf400cefd1",
   "metadata": {},
   "outputs": [
    {
     "data": {
      "text/plain": [
       "ZIP Code\n",
       "98296.0    376\n",
       "98290.0    342\n",
       "Name: count, dtype: int64"
      ]
     },
     "execution_count": 22,
     "metadata": {},
     "output_type": "execute_result"
    }
   ],
   "source": [
    "df.loc[df['City'] == 'SNOHOMISH','ZIP Code'].value_counts()"
   ]
  },
  {
   "cell_type": "code",
   "execution_count": 23,
   "id": "0d047928-d35a-4b81-b9dc-5d1c228301be",
   "metadata": {},
   "outputs": [],
   "source": [
    "zip_codes = df.loc[df['City'] == 'SPOKANE VALLEY', 'ZIP Code']\n",
    "zip_code_mode = zip_codes.mode()\n",
    "\n",
    "# Vérifier si la mode est trouvée\n",
    "if not zip_code_mode.empty:\n",
    "    mode_value = zip_code_mode[0]\n",
    "    \n",
    "# Remplacer les valeurs manquantes avec la mode calculée\n",
    "df.loc[(df['City'] == 'SPOKANE VALLEY') & (df['ZIP Code'].isna()), 'ZIP Code'] = mode_value\n"
   ]
  },
  {
   "cell_type": "code",
   "execution_count": 24,
   "id": "b453f037-b62e-4218-8be1-6d18a8cbf4f6",
   "metadata": {},
   "outputs": [],
   "source": [
    "zip_codes = df.loc[df['City'] == 'BOTHELL', 'ZIP Code']\n",
    "zip_code_mode = zip_codes.mode()\n",
    "\n",
    "# Vérifier si la mode est trouvée\n",
    "if not zip_code_mode.empty:\n",
    "    mode_value = zip_code_mode[0]\n",
    "    \n",
    "# Remplacer les valeurs manquantes avec la mode calculée\n",
    "df.loc[(df['City'] == 'BOTHELL') & (df['ZIP Code'].isna()), 'ZIP Code'] = mode_value           "
   ]
  },
  {
   "cell_type": "code",
   "execution_count": 25,
   "id": "6cfb567f-bd54-448d-9e45-9f1e8edd54ff",
   "metadata": {},
   "outputs": [],
   "source": [
    "zip_codes = df.loc[df['City'] == 'SNOHOMISH', 'ZIP Code']\n",
    "zip_code_mode = zip_codes.mode()\n",
    "\n",
    "# Vérifier si la mode est trouvée\n",
    "if not zip_code_mode.empty:\n",
    "    mode_value = zip_code_mode[0]\n",
    "    \n",
    "# Remplacer les valeurs manquantes avec la mode calculée\n",
    "df.loc[(df['City'] == 'SNOHOMISH') & (df['ZIP Code'].isna()), 'ZIP Code'] = mode_value "
   ]
  },
  {
   "cell_type": "code",
   "execution_count": 26,
   "id": "fb65ed2e-12c5-49c8-ad60-8ab1382e3e3a",
   "metadata": {},
   "outputs": [],
   "source": [
    "zip_codes = df.loc[df['City'] == 'BAINBRIDGE ISLAND', 'ZIP Code']\n",
    "zip_code_mode = zip_codes.mode()\n",
    "\n",
    "# Vérifier si la mode est trouvée\n",
    "if not zip_code_mode.empty:\n",
    "    mode_value = zip_code_mode[0]\n",
    "    \n",
    "# Remplacer les valeurs manquantes avec la mode calculée\n",
    "df.loc[(df['City'] == 'BAINBRIDGE ISLAND') & (df['ZIP Code'].isna()), 'ZIP Code'] = mode_value "
   ]
  },
  {
   "cell_type": "code",
   "execution_count": 27,
   "id": "35eb2ff2-53e0-4c54-96ec-db84e94e58a0",
   "metadata": {},
   "outputs": [
    {
     "data": {
      "text/plain": [
       "Model Year\n",
       "2021.0    13175\n",
       "2018.0     9750\n",
       "2020.0     7504\n",
       "2019.0     7382\n",
       "2017.0     6841\n",
       "2016.0     4425\n",
       "2022.0     3911\n",
       "2015.0     3481\n",
       "2013.0     3354\n",
       "2014.0     2642\n",
       "2012.0     1235\n",
       "2011.0      608\n",
       "2008.0       14\n",
       "2010.0       14\n",
       "2000.0        4\n",
       "2002.0        2\n",
       "1999.0        2\n",
       "1993.0        1\n",
       "1998.0        1\n",
       "Name: count, dtype: int64"
      ]
     },
     "execution_count": 27,
     "metadata": {},
     "output_type": "execute_result"
    }
   ],
   "source": [
    "df['Model Year'].value_counts()"
   ]
  },
  {
   "cell_type": "code",
   "execution_count": 28,
   "id": "9bffaec4-eec1-4e52-9f4f-ffd0247e32fe",
   "metadata": {},
   "outputs": [
    {
     "data": {
      "text/plain": [
       "Model\n",
       "MODEL 3                  3\n",
       "SONATA PLUG-IN HYBRID    1\n",
       "MODEL S                  1\n",
       "MODEL Y                  1\n",
       "A3                       1\n",
       "Name: count, dtype: int64"
      ]
     },
     "execution_count": 28,
     "metadata": {},
     "output_type": "execute_result"
    }
   ],
   "source": [
    "df.loc[df['Model Year'].isnull(),'Model'].value_counts()"
   ]
  },
  {
   "cell_type": "code",
   "execution_count": 29,
   "id": "3f9e25a4-2e22-4353-b4c6-e9d247aae498",
   "metadata": {},
   "outputs": [
    {
     "data": {
      "text/plain": [
       "Model Year\n",
       "2016.0    358\n",
       "Name: count, dtype: int64"
      ]
     },
     "execution_count": 29,
     "metadata": {},
     "output_type": "execute_result"
    }
   ],
   "source": [
    "df.loc[df['Model'] == 'SONATA PLUG-IN HYBRID', 'Model Year'].value_counts()"
   ]
  },
  {
   "cell_type": "code",
   "execution_count": 30,
   "id": "d0a0a4d9-cfd8-4c5d-b7bf-22d14e472bc3",
   "metadata": {},
   "outputs": [],
   "source": [
    "df.loc[(df['Model'] == 'SONATA PLUG-IN HYBRID') & (df['Model Year'].isna()) , 'Model Year'] = 2016"
   ]
  },
  {
   "cell_type": "code",
   "execution_count": 31,
   "id": "bcefa745-4755-478d-801e-2f513765840a",
   "metadata": {},
   "outputs": [
    {
     "data": {
      "text/plain": [
       "Model Year\n",
       "2015.0    779\n",
       "2016.0    690\n",
       "2017.0    620\n",
       "2018.0    603\n",
       "2013.0    592\n",
       "2014.0    470\n",
       "2021.0    325\n",
       "2020.0    253\n",
       "2019.0    168\n",
       "2022.0    105\n",
       "2012.0    104\n",
       "Name: count, dtype: int64"
      ]
     },
     "execution_count": 31,
     "metadata": {},
     "output_type": "execute_result"
    }
   ],
   "source": [
    "##le code pour les autres valeurs nulles 'Model Year' à faire\n",
    "df.loc[df['Model'] == 'MODEL S', 'Model Year'].value_counts()"
   ]
  },
  {
   "cell_type": "code",
   "execution_count": 32,
   "id": "9cd177d0-09ca-4264-bdee-4e56850b6965",
   "metadata": {},
   "outputs": [
    {
     "data": {
      "text/plain": [
       "Make\n",
       "TESLA                   27903\n",
       "NISSAN                   8678\n",
       "CHEVROLET                6651\n",
       "FORD                     3850\n",
       "KIA                      3066\n",
       "BMW                      2707\n",
       "TOYOTA                   2700\n",
       "AUDI                     1265\n",
       "VOLKSWAGEN               1217\n",
       "CHRYSLER                 1091\n",
       "HYUNDAI                   894\n",
       "VOLVO                     688\n",
       "FIAT                      561\n",
       "HONDA                     528\n",
       "PORSCHE                   455\n",
       "JEEP                      436\n",
       "MITSUBISHI                376\n",
       "MINI                      303\n",
       "MERCEDES-BENZ             248\n",
       "SMART                     192\n",
       "POLESTAR                  164\n",
       "JAGUAR                    142\n",
       "CADILLAC                   69\n",
       "LINCOLN                    59\n",
       "SUBARU                     34\n",
       "LAND ROVER                 26\n",
       "RIVIAN                     26\n",
       "FISKER                     11\n",
       "AZURE DYNAMICS              3\n",
       "LUCID MOTORS                2\n",
       "TH!NK                       1\n",
       "DODGE                       1\n",
       "WHEEGO ELECTRIC CARS        1\n",
       "BENTLEY                     1\n",
       "Name: count, dtype: int64"
      ]
     },
     "execution_count": 32,
     "metadata": {},
     "output_type": "execute_result"
    }
   ],
   "source": [
    "df['Make'].value_counts()"
   ]
  },
  {
   "cell_type": "code",
   "execution_count": 33,
   "id": "f4d08a4a-ff4a-4770-8afe-f5116edd3e9e",
   "metadata": {},
   "outputs": [
    {
     "data": {
      "text/plain": [
       "Model\n",
       "LEAF       1\n",
       "MODEL 3    1\n",
       "NIRO       1\n",
       "SORENTO    1\n",
       "Name: count, dtype: int64"
      ]
     },
     "execution_count": 33,
     "metadata": {},
     "output_type": "execute_result"
    }
   ],
   "source": [
    "df.loc[df['Make'].isnull(),'Model'].value_counts()"
   ]
  },
  {
   "cell_type": "code",
   "execution_count": 34,
   "id": "83560d5a-faf6-4b2f-ad93-c7069a4fe573",
   "metadata": {},
   "outputs": [],
   "source": [
    "df.loc[(df['Model'] == 'LEAF') & (df['Make'].isna()) , 'Make'] = 'NISSAN'\n",
    "df.loc[(df['Model'] == 'MODEL 3') & (df['Make'].isna()) , 'Make'] = 'TESLA'\n",
    "df.loc[(df['Model'].isin(['NIRO', 'SORENTO'])) & (df['Make'].isna()), 'Make'] = 'KIA'"
   ]
  },
  {
   "cell_type": "code",
   "execution_count": 35,
   "id": "279c5f3c-e135-4d31-900d-ffc1df2fff7b",
   "metadata": {},
   "outputs": [
    {
     "data": {
      "text/plain": [
       "Make\n",
       "FORD    13\n",
       "Name: count, dtype: int64"
      ]
     },
     "execution_count": 35,
     "metadata": {},
     "output_type": "execute_result"
    }
   ],
   "source": [
    "df.loc[df['Model'].isnull(),'Make'].value_counts()"
   ]
  },
  {
   "cell_type": "code",
   "execution_count": 36,
   "id": "d30aa39d-129d-4dc8-9190-508d109cff69",
   "metadata": {},
   "outputs": [
    {
     "data": {
      "text/plain": [
       "Model\n",
       "FUSION     1342\n",
       "C-MAX      1064\n",
       "F-150       673\n",
       "MACH-E      517\n",
       "FOCUS       192\n",
       "ESCAPE       41\n",
       "RANGER        7\n",
       "$16.36K       1\n",
       "Name: count, dtype: int64"
      ]
     },
     "execution_count": 36,
     "metadata": {},
     "output_type": "execute_result"
    }
   ],
   "source": [
    "df.loc[df['Make']== 'FORD','Model'].value_counts()"
   ]
  },
  {
   "cell_type": "code",
   "execution_count": 37,
   "id": "dcf3f861-0909-4b66-bbf5-f709add107fc",
   "metadata": {},
   "outputs": [],
   "source": [
    "zip_codes = df.loc[df['Make'] == 'FORD', 'Model']\n",
    "zip_code_mode = zip_codes.mode()\n",
    "\n",
    "# Vérifier si la mode est trouvée\n",
    "if not zip_code_mode.empty:\n",
    "    mode_value = zip_code_mode[0]\n",
    "    \n",
    "# Remplacer les valeurs manquantes avec la mode calculée\n",
    "df.loc[(df['Make'] == 'FORD') & (df['Model'].isna()), 'Model'] = mode_value "
   ]
  },
  {
   "cell_type": "code",
   "execution_count": 38,
   "id": "d9d4c1c0-0230-44be-bc7c-f0bc7842d49a",
   "metadata": {},
   "outputs": [
    {
     "data": {
      "text/plain": [
       "Legislative District\n",
       "41.0    4292\n",
       "45.0    4160\n",
       "48.0    3786\n",
       "36.0    3047\n",
       "46.0    2782\n",
       "43.0    2749\n",
       "1.0     2607\n",
       "5.0     2604\n",
       "37.0    2092\n",
       "34.0    2041\n",
       "22.0    1682\n",
       "18.0    1664\n",
       "32.0    1588\n",
       "40.0    1578\n",
       "23.0    1575\n",
       "21.0    1491\n",
       "44.0    1468\n",
       "11.0    1415\n",
       "26.0    1289\n",
       "10.0    1229\n",
       "17.0    1076\n",
       "31.0    1025\n",
       "42.0     984\n",
       "24.0     976\n",
       "47.0     976\n",
       "27.0     966\n",
       "49.0     930\n",
       "35.0     918\n",
       "33.0     862\n",
       "28.0     833\n",
       "39.0     813\n",
       "30.0     730\n",
       "2.0      704\n",
       "8.0      697\n",
       "38.0     642\n",
       "20.0     623\n",
       "25.0     608\n",
       "6.0      580\n",
       "12.0     573\n",
       "4.0      474\n",
       "19.0     414\n",
       "13.0     402\n",
       "29.0     397\n",
       "14.0     387\n",
       "9.0      341\n",
       "3.0      340\n",
       "16.0     330\n",
       "7.0      282\n",
       "15.0     156\n",
       "0.0        6\n",
       "Name: count, dtype: int64"
      ]
     },
     "execution_count": 38,
     "metadata": {},
     "output_type": "execute_result"
    }
   ],
   "source": [
    "df['Legislative District'].value_counts()"
   ]
  },
  {
   "cell_type": "code",
   "execution_count": 39,
   "id": "870ce609-65eb-4cef-a25f-866f7d02ac00",
   "metadata": {},
   "outputs": [
    {
     "data": {
      "text/plain": [
       "City\n",
       "SAN DIEGO      10\n",
       "ALEXANDRIA      4\n",
       "SAN ANTONIO     3\n",
       "WOODBRIDGE      3\n",
       "WASHINGTON      3\n",
       "               ..\n",
       "GLENELG         1\n",
       "CHEYENNE        1\n",
       "STAFFORD        1\n",
       "KOKOMO          1\n",
       "CHULA VISTA     1\n",
       "Name: count, Length: 134, dtype: int64"
      ]
     },
     "execution_count": 39,
     "metadata": {},
     "output_type": "execute_result"
    }
   ],
   "source": [
    "df.loc[df['Legislative District'].isnull(),'City'].value_counts()"
   ]
  },
  {
   "cell_type": "code",
   "execution_count": 40,
   "id": "75c149bc-8010-450f-9edb-07db4d0fd5bb",
   "metadata": {},
   "outputs": [
    {
     "data": {
      "text/plain": [
       "10924   NaN\n",
       "22767   NaN\n",
       "35072   NaN\n",
       "Name: Legislative District, dtype: float64"
      ]
     },
     "execution_count": 40,
     "metadata": {},
     "output_type": "execute_result"
    }
   ],
   "source": [
    "df.loc[df['City'] == 'WASHINGTON', 'Legislative District']"
   ]
  },
  {
   "cell_type": "code",
   "execution_count": 41,
   "id": "2b7c96bf-8a42-4098-be03-ba2db9506656",
   "metadata": {},
   "outputs": [],
   "source": [
    "df.loc[(df['City'] == 'SAN DIEGO') & (df['Legislative District'].isna()) , 'Legislative District'] = 39\n",
    "df.loc[(df['City'] == 'ALEXANDRIA') & (df['Legislative District'].isna()) , 'Legislative District'] = 8\n",
    "df.loc[(df['City'] == 'WOODBRIDGE') & (df['Legislative District'].isna()) , 'Legislative District'] = 19\n",
    "df.loc[(df['City'] == 'SAN ANTONIO') & (df['Legislative District'].isna()) , 'Legislative District'] = 6"
   ]
  },
  {
   "cell_type": "code",
   "execution_count": 42,
   "id": "04ffc0d1-0b55-40ef-945e-cee3e14c455a",
   "metadata": {},
   "outputs": [
    {
     "data": {
      "text/plain": [
       "Electric Utility\n",
       "PUGET SOUND ENERGY INC||CITY OF TACOMA - (WA)                                               22555\n",
       "PUGET SOUND ENERGY INC                                                                      12790\n",
       "CITY OF SEATTLE - (WA)|CITY OF TACOMA - (WA)                                                12514\n",
       "BONNEVILLE POWER ADMINISTRATION||PUD NO 1 OF CLARK COUNTY - (WA)                             3768\n",
       "BONNEVILLE POWER ADMINISTRATION||CITY OF TACOMA - (WA)||PENINSULA LIGHT COMPANY              2899\n",
       "                                                                                            ...  \n",
       "BONNEVILLE POWER ADMINISTRATION||CITY OF COULEE DAM - (WA)                                      2\n",
       "BONNEVILLE POWER ADMINISTRATION||PUD NO 1 OF ASOTIN COUNTY||INLAND POWER & LIGHT COMPANY        2\n",
       "BONNEVILLE POWER ADMINISTRATION||PUD NO 1 OF CLALLAM COUNTY|PUD NO 1 OF JEFFERSON COUNTY        1\n",
       "AVISTA CORP||INLAND POWER & LIGHT COMPANY                                                       1\n",
       "CITY OF SEATTLE - (WA)                                                                          1\n",
       "Name: count, Length: 68, dtype: int64"
      ]
     },
     "execution_count": 42,
     "metadata": {},
     "output_type": "execute_result"
    }
   ],
   "source": [
    "df['Electric Utility'].value_counts()"
   ]
  },
  {
   "cell_type": "code",
   "execution_count": null,
   "id": "a0dde441-1501-4bda-819e-01daae0bd9a1",
   "metadata": {},
   "outputs": [],
   "source": []
  },
  {
   "cell_type": "code",
   "execution_count": null,
   "id": "762da9ab",
   "metadata": {},
   "outputs": [],
   "source": []
  },
  {
   "cell_type": "code",
   "execution_count": 43,
   "id": "f81d8717",
   "metadata": {},
   "outputs": [],
   "source": [
    "\n",
    "df = df.drop(['ID'], axis = 1 )\n"
   ]
  },
  {
   "cell_type": "code",
   "execution_count": 44,
   "id": "4bd1a773",
   "metadata": {},
   "outputs": [],
   "source": [
    "df = df[df['Expected Price ($1k)'] != 'N/']"
   ]
  },
  {
   "cell_type": "code",
   "execution_count": 45,
   "id": "7e150def",
   "metadata": {},
   "outputs": [],
   "source": [
    "df['Expected Price ($1k)'] = df['Expected Price ($1k)'].astype(float)"
   ]
  },
  {
   "cell_type": "code",
   "execution_count": 46,
   "id": "f1cd4363",
   "metadata": {},
   "outputs": [],
   "source": [
    "for column in df :\n",
    "   df[column].fillna(df[column].mode()[0], inplace=True)\n"
   ]
  },
  {
   "cell_type": "code",
   "execution_count": 47,
   "id": "f086f2b6",
   "metadata": {},
   "outputs": [
    {
     "data": {
      "text/plain": [
       "VIN (1-10)                                           0\n",
       "County                                               0\n",
       "City                                                 0\n",
       "State                                                0\n",
       "ZIP Code                                             0\n",
       "Model Year                                           0\n",
       "Make                                                 0\n",
       "Model                                                0\n",
       "Electric Vehicle Type                                0\n",
       "Clean Alternative Fuel Vehicle (CAFV) Eligibility    0\n",
       "Electric Range                                       0\n",
       "Base MSRP                                            0\n",
       "Legislative District                                 0\n",
       "DOL Vehicle ID                                       0\n",
       "Vehicle Location                                     0\n",
       "Electric Utility                                     0\n",
       "Expected Price ($1k)                                 0\n",
       "dtype: int64"
      ]
     },
     "execution_count": 47,
     "metadata": {},
     "output_type": "execute_result"
    }
   ],
   "source": [
    "df.isnull().sum()"
   ]
  },
  {
   "cell_type": "code",
   "execution_count": 48,
   "id": "1d949763",
   "metadata": {},
   "outputs": [
    {
     "data": {
      "text/html": [
       "<div>\n",
       "<style scoped>\n",
       "    .dataframe tbody tr th:only-of-type {\n",
       "        vertical-align: middle;\n",
       "    }\n",
       "\n",
       "    .dataframe tbody tr th {\n",
       "        vertical-align: top;\n",
       "    }\n",
       "\n",
       "    .dataframe thead th {\n",
       "        text-align: right;\n",
       "    }\n",
       "</style>\n",
       "<table border=\"1\" class=\"dataframe\">\n",
       "  <thead>\n",
       "    <tr style=\"text-align: right;\">\n",
       "      <th></th>\n",
       "      <th>VIN (1-10)</th>\n",
       "      <th>County</th>\n",
       "      <th>City</th>\n",
       "      <th>State</th>\n",
       "      <th>ZIP Code</th>\n",
       "      <th>Model Year</th>\n",
       "      <th>Make</th>\n",
       "      <th>Model</th>\n",
       "      <th>Electric Vehicle Type</th>\n",
       "      <th>Clean Alternative Fuel Vehicle (CAFV) Eligibility</th>\n",
       "      <th>Electric Range</th>\n",
       "      <th>Base MSRP</th>\n",
       "      <th>Legislative District</th>\n",
       "      <th>DOL Vehicle ID</th>\n",
       "      <th>Vehicle Location</th>\n",
       "      <th>Electric Utility</th>\n",
       "      <th>Expected Price ($1k)</th>\n",
       "    </tr>\n",
       "  </thead>\n",
       "  <tbody>\n",
       "    <tr>\n",
       "      <th>0</th>\n",
       "      <td>1902</td>\n",
       "      <td>121</td>\n",
       "      <td>271</td>\n",
       "      <td>35</td>\n",
       "      <td>98037.0</td>\n",
       "      <td>2020.0</td>\n",
       "      <td>28</td>\n",
       "      <td>57</td>\n",
       "      <td>0</td>\n",
       "      <td>0</td>\n",
       "      <td>308</td>\n",
       "      <td>0</td>\n",
       "      <td>32.0</td>\n",
       "      <td>109821694</td>\n",
       "      <td>318</td>\n",
       "      <td>65</td>\n",
       "      <td>50.00</td>\n",
       "    </tr>\n",
       "    <tr>\n",
       "      <th>1</th>\n",
       "      <td>3055</td>\n",
       "      <td>119</td>\n",
       "      <td>38</td>\n",
       "      <td>35</td>\n",
       "      <td>98229.0</td>\n",
       "      <td>2011.0</td>\n",
       "      <td>22</td>\n",
       "      <td>53</td>\n",
       "      <td>0</td>\n",
       "      <td>0</td>\n",
       "      <td>73</td>\n",
       "      <td>0</td>\n",
       "      <td>40.0</td>\n",
       "      <td>137375528</td>\n",
       "      <td>380</td>\n",
       "      <td>65</td>\n",
       "      <td>15.00</td>\n",
       "    </tr>\n",
       "    <tr>\n",
       "      <th>2</th>\n",
       "      <td>4670</td>\n",
       "      <td>96</td>\n",
       "      <td>473</td>\n",
       "      <td>35</td>\n",
       "      <td>98422.0</td>\n",
       "      <td>2015.0</td>\n",
       "      <td>3</td>\n",
       "      <td>45</td>\n",
       "      <td>0</td>\n",
       "      <td>0</td>\n",
       "      <td>81</td>\n",
       "      <td>0</td>\n",
       "      <td>27.0</td>\n",
       "      <td>150627382</td>\n",
       "      <td>372</td>\n",
       "      <td>20</td>\n",
       "      <td>18.00</td>\n",
       "    </tr>\n",
       "    <tr>\n",
       "      <th>3</th>\n",
       "      <td>624</td>\n",
       "      <td>60</td>\n",
       "      <td>391</td>\n",
       "      <td>35</td>\n",
       "      <td>98053.0</td>\n",
       "      <td>2013.0</td>\n",
       "      <td>5</td>\n",
       "      <td>96</td>\n",
       "      <td>1</td>\n",
       "      <td>0</td>\n",
       "      <td>38</td>\n",
       "      <td>0</td>\n",
       "      <td>45.0</td>\n",
       "      <td>258766301</td>\n",
       "      <td>245</td>\n",
       "      <td>66</td>\n",
       "      <td>33.90</td>\n",
       "    </tr>\n",
       "    <tr>\n",
       "      <th>4</th>\n",
       "      <td>306</td>\n",
       "      <td>96</td>\n",
       "      <td>380</td>\n",
       "      <td>35</td>\n",
       "      <td>98375.0</td>\n",
       "      <td>2019.0</td>\n",
       "      <td>5</td>\n",
       "      <td>15</td>\n",
       "      <td>0</td>\n",
       "      <td>0</td>\n",
       "      <td>238</td>\n",
       "      <td>0</td>\n",
       "      <td>25.0</td>\n",
       "      <td>296998138</td>\n",
       "      <td>338</td>\n",
       "      <td>16</td>\n",
       "      <td>41.78</td>\n",
       "    </tr>\n",
       "  </tbody>\n",
       "</table>\n",
       "</div>"
      ],
      "text/plain": [
       "   VIN (1-10)  County  City  State  ZIP Code  Model Year  Make  Model  \\\n",
       "0        1902     121   271     35   98037.0      2020.0    28     57   \n",
       "1        3055     119    38     35   98229.0      2011.0    22     53   \n",
       "2        4670      96   473     35   98422.0      2015.0     3     45   \n",
       "3         624      60   391     35   98053.0      2013.0     5     96   \n",
       "4         306      96   380     35   98375.0      2019.0     5     15   \n",
       "\n",
       "   Electric Vehicle Type  Clean Alternative Fuel Vehicle (CAFV) Eligibility  \\\n",
       "0                      0                                                  0   \n",
       "1                      0                                                  0   \n",
       "2                      0                                                  0   \n",
       "3                      1                                                  0   \n",
       "4                      0                                                  0   \n",
       "\n",
       "   Electric Range  Base MSRP  Legislative District  DOL Vehicle ID  \\\n",
       "0             308          0                  32.0       109821694   \n",
       "1              73          0                  40.0       137375528   \n",
       "2              81          0                  27.0       150627382   \n",
       "3              38          0                  45.0       258766301   \n",
       "4             238          0                  25.0       296998138   \n",
       "\n",
       "   Vehicle Location  Electric Utility  Expected Price ($1k)  \n",
       "0               318                65                 50.00  \n",
       "1               380                65                 15.00  \n",
       "2               372                20                 18.00  \n",
       "3               245                66                 33.90  \n",
       "4               338                16                 41.78  "
      ]
     },
     "execution_count": 48,
     "metadata": {},
     "output_type": "execute_result"
    }
   ],
   "source": [
    "from sklearn.preprocessing import LabelEncoder\n",
    "categorical_columns = ['VIN (1-10)','County','City','State','Make','Model','Electric Vehicle Type','Clean Alternative Fuel Vehicle (CAFV) Eligibility','Vehicle Location','Electric Utility']\n",
    "le=LabelEncoder()\n",
    "for column in categorical_columns:\n",
    "    df[column]=le.fit_transform(df[column])\n",
    "df.head()"
   ]
  },
  {
   "cell_type": "code",
   "execution_count": 49,
   "id": "87d19310",
   "metadata": {},
   "outputs": [
    {
     "name": "stdout",
     "output_type": "stream",
     "text": [
      "Correlation Matrix:\n",
      "                                                   VIN (1-10)    County  \\\n",
      "VIN (1-10)                                           1.000000 -0.030166   \n",
      "County                                              -0.030166  1.000000   \n",
      "City                                                -0.001131 -0.177954   \n",
      "State                                                0.008562 -0.001766   \n",
      "ZIP Code                                             0.001753  0.021788   \n",
      "Model Year                                           0.162104 -0.039252   \n",
      "Make                                                 0.218453 -0.035393   \n",
      "Model                                                0.056755  0.004737   \n",
      "Electric Vehicle Type                                0.049396  0.023359   \n",
      "Clean Alternative Fuel Vehicle (CAFV) Eligibility    0.240546  0.009292   \n",
      "Electric Range                                      -0.128139 -0.024092   \n",
      "Base MSRP                                            0.143668  0.001337   \n",
      "Legislative District                                 0.041746 -0.131731   \n",
      "DOL Vehicle ID                                      -0.029307  0.001143   \n",
      "Vehicle Location                                    -0.006350 -0.015314   \n",
      "Electric Utility                                     0.015039  0.139996   \n",
      "Expected Price ($1k)                                 0.161654 -0.059213   \n",
      "\n",
      "                                                       City     State  \\\n",
      "VIN (1-10)                                        -0.001131  0.008562   \n",
      "County                                            -0.177954 -0.001766   \n",
      "City                                               1.000000  0.010387   \n",
      "State                                              0.010387  1.000000   \n",
      "ZIP Code                                           0.035002  0.534105   \n",
      "Model Year                                         0.003085  0.010206   \n",
      "Make                                              -0.022024  0.010708   \n",
      "Model                                             -0.004417 -0.006338   \n",
      "Electric Vehicle Type                              0.014840 -0.016468   \n",
      "Clean Alternative Fuel Vehicle (CAFV) Eligibility  0.004353  0.000007   \n",
      "Electric Range                                    -0.008235 -0.006940   \n",
      "Base MSRP                                         -0.005368 -0.004642   \n",
      "Legislative District                               0.047624 -0.029815   \n",
      "DOL Vehicle ID                                     0.000940  0.001697   \n",
      "Vehicle Location                                   0.003757 -0.018890   \n",
      "Electric Utility                                  -0.254907 -0.028712   \n",
      "Expected Price ($1k)                              -0.024561  0.007496   \n",
      "\n",
      "                                                   ZIP Code  Model Year  \\\n",
      "VIN (1-10)                                         0.001753    0.162104   \n",
      "County                                             0.021788   -0.039252   \n",
      "City                                               0.035002    0.003085   \n",
      "State                                              0.534105    0.010206   \n",
      "ZIP Code                                           1.000000   -0.003759   \n",
      "Model Year                                        -0.003759    1.000000   \n",
      "Make                                              -0.003603    0.201921   \n",
      "Model                                              0.002563    0.014223   \n",
      "Electric Vehicle Type                             -0.000064   -0.203602   \n",
      "Clean Alternative Fuel Vehicle (CAFV) Eligibility  0.005405    0.202430   \n",
      "Electric Range                                    -0.010226   -0.080430   \n",
      "Base MSRP                                         -0.000136   -0.218187   \n",
      "Legislative District                              -0.070116    0.020892   \n",
      "DOL Vehicle ID                                    -0.000836   -0.116918   \n",
      "Vehicle Location                                  -0.116640   -0.052508   \n",
      "Electric Utility                                  -0.090694    0.041258   \n",
      "Expected Price ($1k)                              -0.006126    0.538549   \n",
      "\n",
      "                                                       Make     Model  \\\n",
      "VIN (1-10)                                         0.218453  0.056755   \n",
      "County                                            -0.035393  0.004737   \n",
      "City                                              -0.022024 -0.004417   \n",
      "State                                              0.010708 -0.006338   \n",
      "ZIP Code                                          -0.003603  0.002563   \n",
      "Model Year                                         0.201921  0.014223   \n",
      "Make                                               1.000000  0.160481   \n",
      "Model                                              0.160481  1.000000   \n",
      "Electric Vehicle Type                             -0.501522  0.258224   \n",
      "Clean Alternative Fuel Vehicle (CAFV) Eligibility -0.060889  0.002186   \n",
      "Electric Range                                     0.215201 -0.150083   \n",
      "Base MSRP                                          0.022601  0.040591   \n",
      "Legislative District                               0.058742 -0.016485   \n",
      "DOL Vehicle ID                                     0.012857 -0.012433   \n",
      "Vehicle Location                                  -0.059881 -0.032083   \n",
      "Electric Utility                                   0.076520  0.000730   \n",
      "Expected Price ($1k)                               0.519787  0.121368   \n",
      "\n",
      "                                                   Electric Vehicle Type  \\\n",
      "VIN (1-10)                                                      0.049396   \n",
      "County                                                          0.023359   \n",
      "City                                                            0.014840   \n",
      "State                                                          -0.016468   \n",
      "ZIP Code                                                       -0.000064   \n",
      "Model Year                                                     -0.203602   \n",
      "Make                                                           -0.501522   \n",
      "Model                                                           0.258224   \n",
      "Electric Vehicle Type                                           1.000000   \n",
      "Clean Alternative Fuel Vehicle (CAFV) Eligibility               0.495441   \n",
      "Electric Range                                                 -0.426392   \n",
      "Base MSRP                                                       0.046779   \n",
      "Legislative District                                           -0.061150   \n",
      "DOL Vehicle ID                                                  0.031356   \n",
      "Vehicle Location                                                0.044892   \n",
      "Electric Utility                                               -0.078137   \n",
      "Expected Price ($1k)                                           -0.399214   \n",
      "\n",
      "                                                   Clean Alternative Fuel Vehicle (CAFV) Eligibility  \\\n",
      "VIN (1-10)                                                                                  0.240546   \n",
      "County                                                                                      0.009292   \n",
      "City                                                                                        0.004353   \n",
      "State                                                                                       0.000007   \n",
      "ZIP Code                                                                                    0.005405   \n",
      "Model Year                                                                                  0.202430   \n",
      "Make                                                                                       -0.060889   \n",
      "Model                                                                                       0.002186   \n",
      "Electric Vehicle Type                                                                       0.495441   \n",
      "Clean Alternative Fuel Vehicle (CAFV) Eligibility                                           1.000000   \n",
      "Electric Range                                                                             -0.658704   \n",
      "Base MSRP                                                                                   0.033772   \n",
      "Legislative District                                                                       -0.030151   \n",
      "DOL Vehicle ID                                                                             -0.050282   \n",
      "Vehicle Location                                                                            0.024397   \n",
      "Electric Utility                                                                           -0.037887   \n",
      "Expected Price ($1k)                                                                       -0.055163   \n",
      "\n",
      "                                                   Electric Range  Base MSRP  \\\n",
      "VIN (1-10)                                              -0.128139   0.143668   \n",
      "County                                                  -0.024092   0.001337   \n",
      "City                                                    -0.008235  -0.005368   \n",
      "State                                                   -0.006940  -0.004642   \n",
      "ZIP Code                                                -0.010226  -0.000136   \n",
      "Model Year                                              -0.080430  -0.218187   \n",
      "Make                                                     0.215201   0.022601   \n",
      "Model                                                   -0.150083   0.040591   \n",
      "Electric Vehicle Type                                   -0.426392   0.046779   \n",
      "Clean Alternative Fuel Vehicle (CAFV) Eligibility       -0.658704   0.033772   \n",
      "Electric Range                                           1.000000   0.052876   \n",
      "Base MSRP                                                0.052876   1.000000   \n",
      "Legislative District                                     0.042715   0.002304   \n",
      "DOL Vehicle ID                                           0.041386   0.004769   \n",
      "Vehicle Location                                        -0.032317  -0.004041   \n",
      "Electric Utility                                         0.051919  -0.003093   \n",
      "Expected Price ($1k)                                     0.214878  -0.081020   \n",
      "\n",
      "                                                   Legislative District  \\\n",
      "VIN (1-10)                                                     0.041746   \n",
      "County                                                        -0.131731   \n",
      "City                                                           0.047624   \n",
      "State                                                         -0.029815   \n",
      "ZIP Code                                                      -0.070116   \n",
      "Model Year                                                     0.020892   \n",
      "Make                                                           0.058742   \n",
      "Model                                                         -0.016485   \n",
      "Electric Vehicle Type                                         -0.061150   \n",
      "Clean Alternative Fuel Vehicle (CAFV) Eligibility             -0.030151   \n",
      "Electric Range                                                 0.042715   \n",
      "Base MSRP                                                      0.002304   \n",
      "Legislative District                                           1.000000   \n",
      "DOL Vehicle ID                                                 0.001353   \n",
      "Vehicle Location                                               0.109284   \n",
      "Electric Utility                                               0.228977   \n",
      "Expected Price ($1k)                                           0.055383   \n",
      "\n",
      "                                                   DOL Vehicle ID  \\\n",
      "VIN (1-10)                                              -0.029307   \n",
      "County                                                   0.001143   \n",
      "City                                                     0.000940   \n",
      "State                                                    0.001697   \n",
      "ZIP Code                                                -0.000836   \n",
      "Model Year                                              -0.116918   \n",
      "Make                                                     0.012857   \n",
      "Model                                                   -0.012433   \n",
      "Electric Vehicle Type                                    0.031356   \n",
      "Clean Alternative Fuel Vehicle (CAFV) Eligibility       -0.050282   \n",
      "Electric Range                                           0.041386   \n",
      "Base MSRP                                                0.004769   \n",
      "Legislative District                                     0.001353   \n",
      "DOL Vehicle ID                                           1.000000   \n",
      "Vehicle Location                                        -0.010842   \n",
      "Electric Utility                                         0.004078   \n",
      "Expected Price ($1k)                                    -0.023220   \n",
      "\n",
      "                                                   Vehicle Location  \\\n",
      "VIN (1-10)                                                -0.006350   \n",
      "County                                                    -0.015314   \n",
      "City                                                       0.003757   \n",
      "State                                                     -0.018890   \n",
      "ZIP Code                                                  -0.116640   \n",
      "Model Year                                                -0.052508   \n",
      "Make                                                      -0.059881   \n",
      "Model                                                     -0.032083   \n",
      "Electric Vehicle Type                                      0.044892   \n",
      "Clean Alternative Fuel Vehicle (CAFV) Eligibility          0.024397   \n",
      "Electric Range                                            -0.032317   \n",
      "Base MSRP                                                 -0.004041   \n",
      "Legislative District                                       0.109284   \n",
      "DOL Vehicle ID                                            -0.010842   \n",
      "Vehicle Location                                           1.000000   \n",
      "Electric Utility                                          -0.122287   \n",
      "Expected Price ($1k)                                      -0.099743   \n",
      "\n",
      "                                                   Electric Utility  \\\n",
      "VIN (1-10)                                                 0.015039   \n",
      "County                                                     0.139996   \n",
      "City                                                      -0.254907   \n",
      "State                                                     -0.028712   \n",
      "ZIP Code                                                  -0.090694   \n",
      "Model Year                                                 0.041258   \n",
      "Make                                                       0.076520   \n",
      "Model                                                      0.000730   \n",
      "Electric Vehicle Type                                     -0.078137   \n",
      "Clean Alternative Fuel Vehicle (CAFV) Eligibility         -0.037887   \n",
      "Electric Range                                             0.051919   \n",
      "Base MSRP                                                 -0.003093   \n",
      "Legislative District                                       0.228977   \n",
      "DOL Vehicle ID                                             0.004078   \n",
      "Vehicle Location                                          -0.122287   \n",
      "Electric Utility                                           1.000000   \n",
      "Expected Price ($1k)                                       0.079871   \n",
      "\n",
      "                                                   Expected Price ($1k)  \n",
      "VIN (1-10)                                                     0.161654  \n",
      "County                                                        -0.059213  \n",
      "City                                                          -0.024561  \n",
      "State                                                          0.007496  \n",
      "ZIP Code                                                      -0.006126  \n",
      "Model Year                                                     0.538549  \n",
      "Make                                                           0.519787  \n",
      "Model                                                          0.121368  \n",
      "Electric Vehicle Type                                         -0.399214  \n",
      "Clean Alternative Fuel Vehicle (CAFV) Eligibility             -0.055163  \n",
      "Electric Range                                                 0.214878  \n",
      "Base MSRP                                                     -0.081020  \n",
      "Legislative District                                           0.055383  \n",
      "DOL Vehicle ID                                                -0.023220  \n",
      "Vehicle Location                                              -0.099743  \n",
      "Electric Utility                                               0.079871  \n",
      "Expected Price ($1k)                                           1.000000  \n"
     ]
    }
   ],
   "source": [
    "import seaborn as sns\n",
    "import matplotlib.pyplot as plt\n",
    "corr_matrix = df.corr()\n",
    "print(\"Correlation Matrix:\")\n",
    "print(corr_matrix)\n"
   ]
  },
  {
   "cell_type": "code",
   "execution_count": 50,
   "id": "725b2aa3",
   "metadata": {},
   "outputs": [
    {
     "data": {
      "image/png": "[encoded data removed]",
      "text/plain": [
       "<Figure size 1000x800 with 2 Axes>"
      ]
     },
     "metadata": {},
     "output_type": "display_data"
    }
   ],
   "source": [
    "plt.figure(figsize=(10, 8))\n",
    "sns.heatmap(corr_matrix, annot=True, cmap='coolwarm', fmt='.2f', linewidths=0.5)\n",
    "plt.title('Correlation Matrix')\n",
    "plt.show()"
   ]
  },
  {
   "cell_type": "code",
   "execution_count": 51,
   "id": "6b333ea2",
   "metadata": {},
   "outputs": [
    {
     "name": "stdout",
     "output_type": "stream",
     "text": [
      "<class 'pandas.core.frame.DataFrame'>\n",
      "Index: 64340 entries, 0 to 64352\n",
      "Data columns (total 17 columns):\n",
      " #   Column                                             Non-Null Count  Dtype  \n",
      "---  ------                                             --------------  -----  \n",
      " 0   VIN (1-10)                                         64340 non-null  int32  \n",
      " 1   County                                             64340 non-null  int32  \n",
      " 2   City                                               64340 non-null  int32  \n",
      " 3   State                                              64340 non-null  int32  \n",
      " 4   ZIP Code                                           64340 non-null  float64\n",
      " 5   Model Year                                         64340 non-null  float64\n",
      " 6   Make                                               64340 non-null  int32  \n",
      " 7   Model                                              64340 non-null  int32  \n",
      " 8   Electric Vehicle Type                              64340 non-null  int32  \n",
      " 9   Clean Alternative Fuel Vehicle (CAFV) Eligibility  64340 non-null  int32  \n",
      " 10  Electric Range                                     64340 non-null  int64  \n",
      " 11  Base MSRP                                          64340 non-null  int64  \n",
      " 12  Legislative District                               64340 non-null  float64\n",
      " 13  DOL Vehicle ID                                     64340 non-null  int64  \n",
      " 14  Vehicle Location                                   64340 non-null  int32  \n",
      " 15  Electric Utility                                   64340 non-null  int32  \n",
      " 16  Expected Price ($1k)                               64340 non-null  float64\n",
      "dtypes: float64(4), int32(10), int64(3)\n",
      "memory usage: 6.4 MB\n"
     ]
    }
   ],
   "source": [
    "df.info()"
   ]
  },
  {
   "cell_type": "code",
   "execution_count": 57,
   "id": "eb87cd6a",
   "metadata": {},
   "outputs": [],
   "source": [
    "features = df.drop(['Expected Price ($1k)','County','City','State','Base MSRP','Clean Alternative Fuel Vehicle (CAFV) Eligibility','Electric Utility','ZIP Code','DOL Vehicle ID','Legislative District','Vehicle Location'], axis =1)\n",
    "x= features.values\n",
    "y= df['Expected Price ($1k)'].values\n"
   ]
  },
  {
   "cell_type": "code",
   "execution_count": 58,
   "id": "3a3abd37-6c59-4d7f-b4f0-c9f8cf4be1e4",
   "metadata": {},
   "outputs": [
    {
     "data": {
      "text/html": [
       "<div>\n",
       "<style scoped>\n",
       "    .dataframe tbody tr th:only-of-type {\n",
       "        vertical-align: middle;\n",
       "    }\n",
       "\n",
       "    .dataframe tbody tr th {\n",
       "        vertical-align: top;\n",
       "    }\n",
       "\n",
       "    .dataframe thead th {\n",
       "        text-align: right;\n",
       "    }\n",
       "</style>\n",
       "<table border=\"1\" class=\"dataframe\">\n",
       "  <thead>\n",
       "    <tr style=\"text-align: right;\">\n",
       "      <th></th>\n",
       "      <th>VIN (1-10)</th>\n",
       "      <th>Model Year</th>\n",
       "      <th>Make</th>\n",
       "      <th>Model</th>\n",
       "      <th>Electric Vehicle Type</th>\n",
       "      <th>Electric Range</th>\n",
       "    </tr>\n",
       "  </thead>\n",
       "  <tbody>\n",
       "    <tr>\n",
       "      <th>0</th>\n",
       "      <td>1902</td>\n",
       "      <td>2020.0</td>\n",
       "      <td>28</td>\n",
       "      <td>57</td>\n",
       "      <td>0</td>\n",
       "      <td>308</td>\n",
       "    </tr>\n",
       "    <tr>\n",
       "      <th>1</th>\n",
       "      <td>3055</td>\n",
       "      <td>2011.0</td>\n",
       "      <td>22</td>\n",
       "      <td>53</td>\n",
       "      <td>0</td>\n",
       "      <td>73</td>\n",
       "    </tr>\n",
       "    <tr>\n",
       "      <th>2</th>\n",
       "      <td>4670</td>\n",
       "      <td>2015.0</td>\n",
       "      <td>3</td>\n",
       "      <td>45</td>\n",
       "      <td>0</td>\n",
       "      <td>81</td>\n",
       "    </tr>\n",
       "    <tr>\n",
       "      <th>3</th>\n",
       "      <td>624</td>\n",
       "      <td>2013.0</td>\n",
       "      <td>5</td>\n",
       "      <td>96</td>\n",
       "      <td>1</td>\n",
       "      <td>38</td>\n",
       "    </tr>\n",
       "    <tr>\n",
       "      <th>4</th>\n",
       "      <td>306</td>\n",
       "      <td>2019.0</td>\n",
       "      <td>5</td>\n",
       "      <td>15</td>\n",
       "      <td>0</td>\n",
       "      <td>238</td>\n",
       "    </tr>\n",
       "  </tbody>\n",
       "</table>\n",
       "</div>"
      ],
      "text/plain": [
       "   VIN (1-10)  Model Year  Make  Model  Electric Vehicle Type  Electric Range\n",
       "0        1902      2020.0    28     57                      0             308\n",
       "1        3055      2011.0    22     53                      0              73\n",
       "2        4670      2015.0     3     45                      0              81\n",
       "3         624      2013.0     5     96                      1              38\n",
       "4         306      2019.0     5     15                      0             238"
      ]
     },
     "execution_count": 58,
     "metadata": {},
     "output_type": "execute_result"
    }
   ],
   "source": [
    "features.head()"
   ]
  },
  {
   "cell_type": "code",
   "execution_count": null,
   "id": "6dd52d58",
   "metadata": {},
   "outputs": [],
   "source": [
    "from sklearn.svm import SVR\n",
    "from sklearn.model_selection import train_test_split\n",
    "from sklearn.metrics import mean_squared_error\n",
    "from sklearn.metrics import r2_score\n",
    "x_train, x_test, y_train, y_test = train_test_split(x, y, test_size=0.30, random_state=30) \n",
    "svr = SVR(kernel='rbf')\n",
    "svr.fit(x_train, y_train)\n",
    "y_pred = svr.predict(x_test)\n",
    "mse = mean_squared_error(y_test, y_pred)\n",
    "r2 = r2_score(y_test, y_pred)\n",
    "\n",
    "print(\"Mean Squared Error:\", mse)\n",
    "print(\"R-squared:\", r2)"
   ]
  },
  {
   "cell_type": "code",
   "execution_count": null,
   "id": "efc0daee-583f-42cd-bb2b-5553efd3559b",
   "metadata": {},
   "outputs": [],
   "source": [
    "from sklearn.linear_model import LinearRegression\n",
    "from sklearn import metrics\n",
    "x_train,x_test,y_train,y_test=train_test_split(x,y,test_size=0.30,random_state=30) #splitting data with test size of 35%\n",
    "model=LinearRegression() #build linear regression model\n",
    "model.fit(x_train,y_train) #fitting the training data\n",
    "predicted=model.predict(x_test) #testing our model’s performance\n",
    "print(\"MSE\", mean_squared_error(y_test,predicted))\n",
    "print(\"R squared\", metrics.r2_score(y_test,predicted))"
   ]
  },
  {
   "cell_type": "code",
   "execution_count": null,
   "id": "c02f7421-33af-4374-b798-7f0c24e97e72",
   "metadata": {},
   "outputs": [],
   "source": [
    "from sklearn.preprocessing import PolynomialFeatures\n",
    "lg=LinearRegression()\n",
    "poly=PolynomialFeatures(degree=4)\n",
    "x_train_fit = poly.fit_transform(x_train) #transforming our input data\n",
    "lg.fit(x_train_fit, y_train)\n",
    "x_test_ = poly.fit_transform(x_test)\n",
    "predicted = lg.predict(x_test_)\n",
    "print(\"MSE: \", metrics.mean_squared_error(y_test, predicted))\n",
    "print(\"R squared: \", metrics.r2_score(y_test,predicted))"
   ]
  },
  {
   "cell_type": "code",
   "execution_count": null,
   "id": "1ef2988f-629d-4355-bc38-3ec38ec5cb72",
   "metadata": {},
   "outputs": [],
   "source": []
  },
  {
   "cell_type": "code",
   "execution_count": null,
   "id": "a0b42619",
   "metadata": {},
   "outputs": [],
   "source": []
  }
 ],
 "metadata": {
  "kernelspec": {
   "display_name": "Python 3 (ipykernel)",
   "language": "python",
   "name": "python3"
  },
  "language_info": {
   "codemirror_mode": {
    "name": "ipython",
    "version": 3
   },
   "file_extension": ".py",
   "mimetype": "text/x-python",
   "name": "python",
   "nbconvert_exporter": "python",
   "pygments_lexer": "ipython3",
   "version": "3.11.7"
  }
 },
 "nbformat": 4,
 "nbformat_minor": 5
}
