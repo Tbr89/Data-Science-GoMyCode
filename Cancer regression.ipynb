{
 "cells": [
  {
   "cell_type": "code",
   "execution_count": 1,
   "id": "628ec8ba",
   "metadata": {},
   "outputs": [],
   "source": [
    "import pandas as pd \n",
    "import numpy as np\n",
    "from sklearn.svm import SVR\n",
    "from sklearn.model_selection import train_test_split"
   ]
  },
  {
   "cell_type": "code",
   "execution_count": 2,
   "id": "1aa1e99a",
   "metadata": {},
   "outputs": [
    {
     "data": {
      "text/html": [
       "<div>\n",
       "<style scoped>\n",
       "    .dataframe tbody tr th:only-of-type {\n",
       "        vertical-align: middle;\n",
       "    }\n",
       "\n",
       "    .dataframe tbody tr th {\n",
       "        vertical-align: top;\n",
       "    }\n",
       "\n",
       "    .dataframe thead th {\n",
       "        text-align: right;\n",
       "    }\n",
       "</style>\n",
       "<table border=\"1\" class=\"dataframe\">\n",
       "  <thead>\n",
       "    <tr style=\"text-align: right;\">\n",
       "      <th></th>\n",
       "      <th>avganncount</th>\n",
       "      <th>avgdeathsperyear</th>\n",
       "      <th>target_deathrate</th>\n",
       "      <th>incidencerate</th>\n",
       "      <th>medincome</th>\n",
       "      <th>popest2015</th>\n",
       "      <th>povertypercent</th>\n",
       "      <th>studypercap</th>\n",
       "      <th>binnedinc</th>\n",
       "      <th>medianage</th>\n",
       "      <th>...</th>\n",
       "      <th>pctprivatecoveragealone</th>\n",
       "      <th>pctempprivcoverage</th>\n",
       "      <th>pctpubliccoverage</th>\n",
       "      <th>pctpubliccoveragealone</th>\n",
       "      <th>pctwhite</th>\n",
       "      <th>pctblack</th>\n",
       "      <th>pctasian</th>\n",
       "      <th>pctotherrace</th>\n",
       "      <th>pctmarriedhouseholds</th>\n",
       "      <th>birthrate</th>\n",
       "    </tr>\n",
       "  </thead>\n",
       "  <tbody>\n",
       "    <tr>\n",
       "      <th>0</th>\n",
       "      <td>1397.0</td>\n",
       "      <td>469</td>\n",
       "      <td>164.9</td>\n",
       "      <td>489.8</td>\n",
       "      <td>61898</td>\n",
       "      <td>260131</td>\n",
       "      <td>11.2</td>\n",
       "      <td>499.748204</td>\n",
       "      <td>(61494.5, 125635]</td>\n",
       "      <td>39.3</td>\n",
       "      <td>...</td>\n",
       "      <td>NaN</td>\n",
       "      <td>41.6</td>\n",
       "      <td>32.9</td>\n",
       "      <td>14.0</td>\n",
       "      <td>81.780529</td>\n",
       "      <td>2.594728</td>\n",
       "      <td>4.821857</td>\n",
       "      <td>1.843479</td>\n",
       "      <td>52.856076</td>\n",
       "      <td>6.118831</td>\n",
       "    </tr>\n",
       "    <tr>\n",
       "      <th>1</th>\n",
       "      <td>173.0</td>\n",
       "      <td>70</td>\n",
       "      <td>161.3</td>\n",
       "      <td>411.6</td>\n",
       "      <td>48127</td>\n",
       "      <td>43269</td>\n",
       "      <td>18.6</td>\n",
       "      <td>23.111234</td>\n",
       "      <td>(48021.6, 51046.4]</td>\n",
       "      <td>33.0</td>\n",
       "      <td>...</td>\n",
       "      <td>53.8</td>\n",
       "      <td>43.6</td>\n",
       "      <td>31.1</td>\n",
       "      <td>15.3</td>\n",
       "      <td>89.228509</td>\n",
       "      <td>0.969102</td>\n",
       "      <td>2.246233</td>\n",
       "      <td>3.741352</td>\n",
       "      <td>45.372500</td>\n",
       "      <td>4.333096</td>\n",
       "    </tr>\n",
       "    <tr>\n",
       "      <th>2</th>\n",
       "      <td>102.0</td>\n",
       "      <td>50</td>\n",
       "      <td>174.7</td>\n",
       "      <td>349.7</td>\n",
       "      <td>49348</td>\n",
       "      <td>21026</td>\n",
       "      <td>14.6</td>\n",
       "      <td>47.560164</td>\n",
       "      <td>(48021.6, 51046.4]</td>\n",
       "      <td>45.0</td>\n",
       "      <td>...</td>\n",
       "      <td>43.5</td>\n",
       "      <td>34.9</td>\n",
       "      <td>42.1</td>\n",
       "      <td>21.1</td>\n",
       "      <td>90.922190</td>\n",
       "      <td>0.739673</td>\n",
       "      <td>0.465898</td>\n",
       "      <td>2.747358</td>\n",
       "      <td>54.444868</td>\n",
       "      <td>3.729488</td>\n",
       "    </tr>\n",
       "    <tr>\n",
       "      <th>3</th>\n",
       "      <td>427.0</td>\n",
       "      <td>202</td>\n",
       "      <td>194.8</td>\n",
       "      <td>430.4</td>\n",
       "      <td>44243</td>\n",
       "      <td>75882</td>\n",
       "      <td>17.1</td>\n",
       "      <td>342.637253</td>\n",
       "      <td>(42724.4, 45201]</td>\n",
       "      <td>42.8</td>\n",
       "      <td>...</td>\n",
       "      <td>40.3</td>\n",
       "      <td>35.0</td>\n",
       "      <td>45.3</td>\n",
       "      <td>25.0</td>\n",
       "      <td>91.744686</td>\n",
       "      <td>0.782626</td>\n",
       "      <td>1.161359</td>\n",
       "      <td>1.362643</td>\n",
       "      <td>51.021514</td>\n",
       "      <td>4.603841</td>\n",
       "    </tr>\n",
       "    <tr>\n",
       "      <th>4</th>\n",
       "      <td>57.0</td>\n",
       "      <td>26</td>\n",
       "      <td>144.4</td>\n",
       "      <td>350.1</td>\n",
       "      <td>49955</td>\n",
       "      <td>10321</td>\n",
       "      <td>12.5</td>\n",
       "      <td>0.000000</td>\n",
       "      <td>(48021.6, 51046.4]</td>\n",
       "      <td>48.3</td>\n",
       "      <td>...</td>\n",
       "      <td>43.9</td>\n",
       "      <td>35.1</td>\n",
       "      <td>44.0</td>\n",
       "      <td>22.7</td>\n",
       "      <td>94.104024</td>\n",
       "      <td>0.270192</td>\n",
       "      <td>0.665830</td>\n",
       "      <td>0.492135</td>\n",
       "      <td>54.027460</td>\n",
       "      <td>6.796657</td>\n",
       "    </tr>\n",
       "  </tbody>\n",
       "</table>\n",
       "<p>5 rows × 33 columns</p>\n",
       "</div>"
      ],
      "text/plain": [
       "   avganncount  avgdeathsperyear  target_deathrate  incidencerate  medincome  \\\n",
       "0       1397.0               469             164.9          489.8      61898   \n",
       "1        173.0                70             161.3          411.6      48127   \n",
       "2        102.0                50             174.7          349.7      49348   \n",
       "3        427.0               202             194.8          430.4      44243   \n",
       "4         57.0                26             144.4          350.1      49955   \n",
       "\n",
       "   popest2015  povertypercent  studypercap           binnedinc  medianage  \\\n",
       "0      260131            11.2   499.748204   (61494.5, 125635]       39.3   \n",
       "1       43269            18.6    23.111234  (48021.6, 51046.4]       33.0   \n",
       "2       21026            14.6    47.560164  (48021.6, 51046.4]       45.0   \n",
       "3       75882            17.1   342.637253    (42724.4, 45201]       42.8   \n",
       "4       10321            12.5     0.000000  (48021.6, 51046.4]       48.3   \n",
       "\n",
       "   ...  pctprivatecoveragealone  pctempprivcoverage pctpubliccoverage  \\\n",
       "0  ...                      NaN                41.6              32.9   \n",
       "1  ...                     53.8                43.6              31.1   \n",
       "2  ...                     43.5                34.9              42.1   \n",
       "3  ...                     40.3                35.0              45.3   \n",
       "4  ...                     43.9                35.1              44.0   \n",
       "\n",
       "   pctpubliccoveragealone   pctwhite  pctblack  pctasian  pctotherrace  \\\n",
       "0                    14.0  81.780529  2.594728  4.821857      1.843479   \n",
       "1                    15.3  89.228509  0.969102  2.246233      3.741352   \n",
       "2                    21.1  90.922190  0.739673  0.465898      2.747358   \n",
       "3                    25.0  91.744686  0.782626  1.161359      1.362643   \n",
       "4                    22.7  94.104024  0.270192  0.665830      0.492135   \n",
       "\n",
       "   pctmarriedhouseholds  birthrate  \n",
       "0             52.856076   6.118831  \n",
       "1             45.372500   4.333096  \n",
       "2             54.444868   3.729488  \n",
       "3             51.021514   4.603841  \n",
       "4             54.027460   6.796657  \n",
       "\n",
       "[5 rows x 33 columns]"
      ]
     },
     "execution_count": 2,
     "metadata": {},
     "output_type": "execute_result"
    }
   ],
   "source": [
    "df = pd.read_csv('C:\\\\Users\\\\PC\\\\Downloads\\\\cancer_reg.csv')\n",
    "df.head()"
   ]
  },
  {
   "cell_type": "code",
   "execution_count": 3,
   "id": "6544170c",
   "metadata": {},
   "outputs": [
    {
     "name": "stdout",
     "output_type": "stream",
     "text": [
      "<class 'pandas.core.frame.DataFrame'>\n",
      "RangeIndex: 3047 entries, 0 to 3046\n",
      "Data columns (total 33 columns):\n",
      " #   Column                   Non-Null Count  Dtype  \n",
      "---  ------                   --------------  -----  \n",
      " 0   avganncount              3047 non-null   float64\n",
      " 1   avgdeathsperyear         3047 non-null   int64  \n",
      " 2   target_deathrate         3047 non-null   float64\n",
      " 3   incidencerate            3047 non-null   float64\n",
      " 4   medincome                3047 non-null   int64  \n",
      " 5   popest2015               3047 non-null   int64  \n",
      " 6   povertypercent           3047 non-null   float64\n",
      " 7   studypercap              3047 non-null   float64\n",
      " 8   binnedinc                3047 non-null   object \n",
      " 9   medianage                3047 non-null   float64\n",
      " 10  medianagemale            3047 non-null   float64\n",
      " 11  medianagefemale          3047 non-null   float64\n",
      " 12  geography                3047 non-null   object \n",
      " 13  percentmarried           3047 non-null   float64\n",
      " 14  pctnohs18_24             3047 non-null   float64\n",
      " 15  pcths18_24               3047 non-null   float64\n",
      " 16  pctsomecol18_24          762 non-null    float64\n",
      " 17  pctbachdeg18_24          3047 non-null   float64\n",
      " 18  pcths25_over             3047 non-null   float64\n",
      " 19  pctbachdeg25_over        3047 non-null   float64\n",
      " 20  pctemployed16_over       2895 non-null   float64\n",
      " 21  pctunemployed16_over     3047 non-null   float64\n",
      " 22  pctprivatecoverage       3047 non-null   float64\n",
      " 23  pctprivatecoveragealone  2438 non-null   float64\n",
      " 24  pctempprivcoverage       3047 non-null   float64\n",
      " 25  pctpubliccoverage        3047 non-null   float64\n",
      " 26  pctpubliccoveragealone   3047 non-null   float64\n",
      " 27  pctwhite                 3047 non-null   float64\n",
      " 28  pctblack                 3047 non-null   float64\n",
      " 29  pctasian                 3047 non-null   float64\n",
      " 30  pctotherrace             3047 non-null   float64\n",
      " 31  pctmarriedhouseholds     3047 non-null   float64\n",
      " 32  birthrate                3047 non-null   float64\n",
      "dtypes: float64(28), int64(3), object(2)\n",
      "memory usage: 785.7+ KB\n"
     ]
    }
   ],
   "source": [
    "df.info()"
   ]
  },
  {
   "cell_type": "code",
   "execution_count": 4,
   "id": "45bc23eb",
   "metadata": {},
   "outputs": [
    {
     "data": {
      "text/plain": [
       "avganncount                   0\n",
       "avgdeathsperyear              0\n",
       "target_deathrate              0\n",
       "incidencerate                 0\n",
       "medincome                     0\n",
       "popest2015                    0\n",
       "povertypercent                0\n",
       "studypercap                   0\n",
       "binnedinc                     0\n",
       "medianage                     0\n",
       "medianagemale                 0\n",
       "medianagefemale               0\n",
       "geography                     0\n",
       "percentmarried                0\n",
       "pctnohs18_24                  0\n",
       "pcths18_24                    0\n",
       "pctsomecol18_24            2285\n",
       "pctbachdeg18_24               0\n",
       "pcths25_over                  0\n",
       "pctbachdeg25_over             0\n",
       "pctemployed16_over          152\n",
       "pctunemployed16_over          0\n",
       "pctprivatecoverage            0\n",
       "pctprivatecoveragealone     609\n",
       "pctempprivcoverage            0\n",
       "pctpubliccoverage             0\n",
       "pctpubliccoveragealone        0\n",
       "pctwhite                      0\n",
       "pctblack                      0\n",
       "pctasian                      0\n",
       "pctotherrace                  0\n",
       "pctmarriedhouseholds          0\n",
       "birthrate                     0\n",
       "dtype: int64"
      ]
     },
     "execution_count": 4,
     "metadata": {},
     "output_type": "execute_result"
    }
   ],
   "source": [
    "df.isnull().sum()"
   ]
  },
  {
   "cell_type": "code",
   "execution_count": 5,
   "id": "0bc55878",
   "metadata": {},
   "outputs": [
    {
     "data": {
      "text/plain": [
       "(3047, 33)"
      ]
     },
     "execution_count": 5,
     "metadata": {},
     "output_type": "execute_result"
    }
   ],
   "source": [
    "df.shape"
   ]
  },
  {
   "cell_type": "code",
   "execution_count": 6,
   "id": "6814e2f9",
   "metadata": {},
   "outputs": [
    {
     "data": {
      "text/plain": [
       "pctsomecol18_24\n",
       "43.0    10\n",
       "42.1     8\n",
       "42.3     8\n",
       "45.5     7\n",
       "36.6     7\n",
       "        ..\n",
       "72.7     1\n",
       "53.2     1\n",
       "46.5     1\n",
       "24.8     1\n",
       "43.9     1\n",
       "Name: count, Length: 343, dtype: int64"
      ]
     },
     "execution_count": 6,
     "metadata": {},
     "output_type": "execute_result"
    }
   ],
   "source": [
    "df['pctsomecol18_24'].value_counts()"
   ]
  },
  {
   "cell_type": "code",
   "execution_count": 7,
   "id": "6ee852a4",
   "metadata": {},
   "outputs": [],
   "source": [
    "df['pctsomecol18_24'].fillna(df['pctsomecol18_24'].mean(), inplace=True)"
   ]
  },
  {
   "cell_type": "code",
   "execution_count": 8,
   "id": "4c7a81eb",
   "metadata": {},
   "outputs": [
    {
     "data": {
      "text/plain": [
       "pctemployed16_over\n",
       "51.9    20\n",
       "48.9    20\n",
       "57.9    20\n",
       "54.2    19\n",
       "59.7    19\n",
       "        ..\n",
       "34.3     1\n",
       "73.6     1\n",
       "32.8     1\n",
       "35.1     1\n",
       "68.6     1\n",
       "Name: count, Length: 409, dtype: int64"
      ]
     },
     "execution_count": 8,
     "metadata": {},
     "output_type": "execute_result"
    }
   ],
   "source": [
    "df['pctemployed16_over'].value_counts()"
   ]
  },
  {
   "cell_type": "code",
   "execution_count": 9,
   "id": "2300f48a",
   "metadata": {},
   "outputs": [],
   "source": [
    "df['pctemployed16_over'].fillna(df['pctemployed16_over'].mean(), inplace=True)"
   ]
  },
  {
   "cell_type": "code",
   "execution_count": 10,
   "id": "6dc54d0f",
   "metadata": {},
   "outputs": [
    {
     "data": {
      "text/plain": [
       "pctprivatecoveragealone\n",
       "53.0    16\n",
       "53.8    14\n",
       "50.6    14\n",
       "51.7    14\n",
       "49.6    14\n",
       "        ..\n",
       "24.5     1\n",
       "71.1     1\n",
       "24.4     1\n",
       "71.3     1\n",
       "15.7     1\n",
       "Name: count, Length: 459, dtype: int64"
      ]
     },
     "execution_count": 10,
     "metadata": {},
     "output_type": "execute_result"
    }
   ],
   "source": [
    "df['pctprivatecoveragealone'].value_counts()"
   ]
  },
  {
   "cell_type": "code",
   "execution_count": 11,
   "id": "2b5c1425",
   "metadata": {},
   "outputs": [],
   "source": [
    "df['pctprivatecoveragealone'].fillna(df['pctprivatecoveragealone'].mean(), inplace=True)"
   ]
  },
  {
   "cell_type": "code",
   "execution_count": 12,
   "id": "37b71f26",
   "metadata": {},
   "outputs": [
    {
     "data": {
      "text/plain": [
       "avganncount                0\n",
       "avgdeathsperyear           0\n",
       "target_deathrate           0\n",
       "incidencerate              0\n",
       "medincome                  0\n",
       "popest2015                 0\n",
       "povertypercent             0\n",
       "studypercap                0\n",
       "binnedinc                  0\n",
       "medianage                  0\n",
       "medianagemale              0\n",
       "medianagefemale            0\n",
       "geography                  0\n",
       "percentmarried             0\n",
       "pctnohs18_24               0\n",
       "pcths18_24                 0\n",
       "pctsomecol18_24            0\n",
       "pctbachdeg18_24            0\n",
       "pcths25_over               0\n",
       "pctbachdeg25_over          0\n",
       "pctemployed16_over         0\n",
       "pctunemployed16_over       0\n",
       "pctprivatecoverage         0\n",
       "pctprivatecoveragealone    0\n",
       "pctempprivcoverage         0\n",
       "pctpubliccoverage          0\n",
       "pctpubliccoveragealone     0\n",
       "pctwhite                   0\n",
       "pctblack                   0\n",
       "pctasian                   0\n",
       "pctotherrace               0\n",
       "pctmarriedhouseholds       0\n",
       "birthrate                  0\n",
       "dtype: int64"
      ]
     },
     "execution_count": 12,
     "metadata": {},
     "output_type": "execute_result"
    }
   ],
   "source": [
    "df.isnull().sum()"
   ]
  },
  {
   "cell_type": "code",
   "execution_count": 13,
   "id": "4c24efd1",
   "metadata": {},
   "outputs": [
    {
     "data": {
      "text/plain": [
       "binnedinc\n",
       "(54545.6, 61494.5]    306\n",
       "[22640, 34218.1]      306\n",
       "(45201, 48021.6]      306\n",
       "(48021.6, 51046.4]    305\n",
       "(42724.4, 45201]      305\n",
       "(51046.4, 54545.6]    305\n",
       "(37413.8, 40362.7]    304\n",
       "(40362.7, 42724.4]    304\n",
       "(34218.1, 37413.8]    304\n",
       "(61494.5, 125635]     302\n",
       "Name: count, dtype: int64"
      ]
     },
     "execution_count": 13,
     "metadata": {},
     "output_type": "execute_result"
    }
   ],
   "source": [
    "df['binnedinc'].value_counts()"
   ]
  },
  {
   "cell_type": "code",
   "execution_count": 14,
   "id": "20319a04",
   "metadata": {},
   "outputs": [
    {
     "name": "stdout",
     "output_type": "stream",
     "text": [
      "Requirement already satisfied: catboost in c:\\users\\pc\\anaconda3\\lib\\site-packages (1.2.5)\n",
      "Requirement already satisfied: graphviz in c:\\users\\pc\\anaconda3\\lib\\site-packages (from catboost) (0.20.3)\n",
      "Requirement already satisfied: matplotlib in c:\\users\\pc\\anaconda3\\lib\\site-packages (from catboost) (3.8.0)\n",
      "Requirement already satisfied: numpy>=1.16.0 in c:\\users\\pc\\anaconda3\\lib\\site-packages (from catboost) (1.26.4)\n",
      "Requirement already satisfied: pandas>=0.24 in c:\\users\\pc\\anaconda3\\lib\\site-packages (from catboost) (2.1.4)\n",
      "Requirement already satisfied: scipy in c:\\users\\pc\\anaconda3\\lib\\site-packages (from catboost) (1.11.4)\n",
      "Requirement already satisfied: plotly in c:\\users\\pc\\anaconda3\\lib\\site-packages (from catboost) (5.9.0)\n",
      "Requirement already satisfied: six in c:\\users\\pc\\anaconda3\\lib\\site-packages (from catboost) (1.16.0)\n",
      "Requirement already satisfied: python-dateutil>=2.8.2 in c:\\users\\pc\\anaconda3\\lib\\site-packages (from pandas>=0.24->catboost) (2.8.2)\n",
      "Requirement already satisfied: pytz>=2020.1 in c:\\users\\pc\\anaconda3\\lib\\site-packages (from pandas>=0.24->catboost) (2023.3.post1)\n",
      "Requirement already satisfied: tzdata>=2022.1 in c:\\users\\pc\\anaconda3\\lib\\site-packages (from pandas>=0.24->catboost) (2023.3)\n",
      "Requirement already satisfied: contourpy>=1.0.1 in c:\\users\\pc\\anaconda3\\lib\\site-packages (from matplotlib->catboost) (1.2.0)\n",
      "Requirement already satisfied: cycler>=0.10 in c:\\users\\pc\\anaconda3\\lib\\site-packages (from matplotlib->catboost) (0.11.0)\n",
      "Requirement already satisfied: fonttools>=4.22.0 in c:\\users\\pc\\anaconda3\\lib\\site-packages (from matplotlib->catboost) (4.25.0)\n",
      "Requirement already satisfied: kiwisolver>=1.0.1 in c:\\users\\pc\\anaconda3\\lib\\site-packages (from matplotlib->catboost) (1.4.4)\n",
      "Requirement already satisfied: packaging>=20.0 in c:\\users\\pc\\anaconda3\\lib\\site-packages (from matplotlib->catboost) (23.1)\n",
      "Requirement already satisfied: pillow>=6.2.0 in c:\\users\\pc\\anaconda3\\lib\\site-packages (from matplotlib->catboost) (10.2.0)\n",
      "Requirement already satisfied: pyparsing>=2.3.1 in c:\\users\\pc\\anaconda3\\lib\\site-packages (from matplotlib->catboost) (3.0.9)\n",
      "Requirement already satisfied: tenacity>=6.2.0 in c:\\users\\pc\\anaconda3\\lib\\site-packages (from plotly->catboost) (8.2.2)\n"
     ]
    }
   ],
   "source": [
    "!pip install catboost\n",
    "import catboost"
   ]
  },
  {
   "cell_type": "code",
   "execution_count": 15,
   "id": "b17e7298",
   "metadata": {},
   "outputs": [],
   "source": [
    "params = {'random_strength': 1 , 'n_estimators': 100,'max_depth': 7 , 'loss_function':'RMSE' , 'learning_rate' : 0.1 ,  'colsample_bylevel': 0.8,\n",
    "         'bootstrap_type': 'MVS', 'bagging_temperature': 1.0}"
   ]
  },
  {
   "cell_type": "code",
   "execution_count": 16,
   "id": "03a5b2d9",
   "metadata": {},
   "outputs": [],
   "source": [
    "x = df.drop(['birthrate','geography'], axis = 1 )\n",
    "y = df['target_deathrate'].values"
   ]
  },
  {
   "cell_type": "code",
   "execution_count": 17,
   "id": "b413738e",
   "metadata": {},
   "outputs": [],
   "source": [
    "X_df = pd.DataFrame(x)"
   ]
  },
  {
   "cell_type": "code",
   "execution_count": 18,
   "id": "e87003a6",
   "metadata": {},
   "outputs": [
    {
     "name": "stdout",
     "output_type": "stream",
     "text": [
      "0:\tlearn: 25.5530206\ttotal: 188ms\tremaining: 18.6s\n",
      "1:\tlearn: 23.5024698\ttotal: 233ms\tremaining: 11.4s\n",
      "2:\tlearn: 21.4953402\ttotal: 272ms\tremaining: 8.8s\n",
      "3:\tlearn: 19.8730610\ttotal: 313ms\tremaining: 7.51s\n",
      "4:\tlearn: 18.5361376\ttotal: 355ms\tremaining: 6.74s\n",
      "5:\tlearn: 17.0660302\ttotal: 382ms\tremaining: 5.99s\n",
      "6:\tlearn: 15.8838343\ttotal: 418ms\tremaining: 5.55s\n",
      "7:\tlearn: 14.7400911\ttotal: 448ms\tremaining: 5.15s\n",
      "8:\tlearn: 13.6725888\ttotal: 476ms\tremaining: 4.81s\n",
      "9:\tlearn: 12.8063473\ttotal: 501ms\tremaining: 4.51s\n",
      "10:\tlearn: 11.8459483\ttotal: 529ms\tremaining: 4.28s\n",
      "11:\tlearn: 10.9977158\ttotal: 559ms\tremaining: 4.1s\n",
      "12:\tlearn: 10.2356012\ttotal: 586ms\tremaining: 3.92s\n",
      "13:\tlearn: 9.5715355\ttotal: 612ms\tremaining: 3.76s\n",
      "14:\tlearn: 8.9043992\ttotal: 640ms\tremaining: 3.63s\n",
      "15:\tlearn: 8.2551655\ttotal: 665ms\tremaining: 3.49s\n",
      "16:\tlearn: 7.7067192\ttotal: 693ms\tremaining: 3.38s\n",
      "17:\tlearn: 7.1873650\ttotal: 721ms\tremaining: 3.28s\n",
      "18:\tlearn: 6.6849202\ttotal: 746ms\tremaining: 3.18s\n",
      "19:\tlearn: 6.2732556\ttotal: 772ms\tremaining: 3.09s\n",
      "20:\tlearn: 5.8756947\ttotal: 798ms\tremaining: 3s\n",
      "21:\tlearn: 5.5333113\ttotal: 824ms\tremaining: 2.92s\n",
      "22:\tlearn: 5.2124093\ttotal: 852ms\tremaining: 2.85s\n",
      "23:\tlearn: 4.9566010\ttotal: 876ms\tremaining: 2.77s\n",
      "24:\tlearn: 4.6800666\ttotal: 904ms\tremaining: 2.71s\n",
      "25:\tlearn: 4.4509003\ttotal: 931ms\tremaining: 2.65s\n",
      "26:\tlearn: 4.2474561\ttotal: 958ms\tremaining: 2.59s\n",
      "27:\tlearn: 4.0402669\ttotal: 985ms\tremaining: 2.53s\n",
      "28:\tlearn: 3.8461422\ttotal: 1.01s\tremaining: 2.47s\n",
      "29:\tlearn: 3.6551357\ttotal: 1.04s\tremaining: 2.42s\n",
      "30:\tlearn: 3.5058439\ttotal: 1.06s\tremaining: 2.37s\n",
      "31:\tlearn: 3.3680461\ttotal: 1.09s\tremaining: 2.31s\n",
      "32:\tlearn: 3.2213017\ttotal: 1.12s\tremaining: 2.27s\n",
      "33:\tlearn: 3.1040166\ttotal: 1.15s\tremaining: 2.24s\n",
      "34:\tlearn: 2.9903243\ttotal: 1.18s\tremaining: 2.2s\n",
      "35:\tlearn: 2.8917064\ttotal: 1.21s\tremaining: 2.15s\n",
      "36:\tlearn: 2.8360889\ttotal: 1.24s\tremaining: 2.1s\n",
      "37:\tlearn: 2.7570350\ttotal: 1.27s\tremaining: 2.08s\n",
      "38:\tlearn: 2.6570337\ttotal: 1.3s\tremaining: 2.03s\n",
      "39:\tlearn: 2.5928181\ttotal: 1.32s\tremaining: 1.99s\n",
      "40:\tlearn: 2.5145615\ttotal: 1.35s\tremaining: 1.95s\n",
      "41:\tlearn: 2.4421601\ttotal: 1.38s\tremaining: 1.9s\n",
      "42:\tlearn: 2.3969307\ttotal: 1.41s\tremaining: 1.86s\n",
      "43:\tlearn: 2.3568020\ttotal: 1.43s\tremaining: 1.82s\n",
      "44:\tlearn: 2.2910038\ttotal: 1.46s\tremaining: 1.78s\n",
      "45:\tlearn: 2.2496198\ttotal: 1.49s\tremaining: 1.75s\n",
      "46:\tlearn: 2.1925922\ttotal: 1.51s\tremaining: 1.7s\n",
      "47:\tlearn: 2.1643543\ttotal: 1.54s\tremaining: 1.66s\n",
      "48:\tlearn: 2.1331919\ttotal: 1.56s\tremaining: 1.63s\n",
      "49:\tlearn: 2.1100994\ttotal: 1.59s\tremaining: 1.59s\n",
      "50:\tlearn: 2.0537470\ttotal: 1.61s\tremaining: 1.55s\n",
      "51:\tlearn: 2.0287465\ttotal: 1.64s\tremaining: 1.52s\n",
      "52:\tlearn: 1.9779602\ttotal: 1.67s\tremaining: 1.48s\n",
      "53:\tlearn: 1.9363457\ttotal: 1.69s\tremaining: 1.44s\n",
      "54:\tlearn: 1.9075193\ttotal: 1.72s\tremaining: 1.41s\n",
      "55:\tlearn: 1.8683759\ttotal: 1.74s\tremaining: 1.37s\n",
      "56:\tlearn: 1.8340111\ttotal: 1.77s\tremaining: 1.34s\n",
      "57:\tlearn: 1.8154779\ttotal: 1.8s\tremaining: 1.3s\n",
      "58:\tlearn: 1.7884791\ttotal: 1.82s\tremaining: 1.27s\n",
      "59:\tlearn: 1.7616074\ttotal: 1.85s\tremaining: 1.23s\n",
      "60:\tlearn: 1.7342606\ttotal: 1.88s\tremaining: 1.2s\n",
      "61:\tlearn: 1.7101872\ttotal: 1.91s\tremaining: 1.17s\n",
      "62:\tlearn: 1.6961769\ttotal: 1.94s\tremaining: 1.14s\n",
      "63:\tlearn: 1.6714838\ttotal: 1.97s\tremaining: 1.11s\n",
      "64:\tlearn: 1.6454363\ttotal: 2s\tremaining: 1.08s\n",
      "65:\tlearn: 1.6296888\ttotal: 2.02s\tremaining: 1.04s\n",
      "66:\tlearn: 1.6163805\ttotal: 2.06s\tremaining: 1.01s\n",
      "67:\tlearn: 1.6009590\ttotal: 2.08s\tremaining: 979ms\n",
      "68:\tlearn: 1.5918205\ttotal: 2.11s\tremaining: 947ms\n",
      "69:\tlearn: 1.5815725\ttotal: 2.14s\tremaining: 917ms\n",
      "70:\tlearn: 1.5585599\ttotal: 2.17s\tremaining: 886ms\n",
      "71:\tlearn: 1.5371548\ttotal: 2.19s\tremaining: 854ms\n",
      "72:\tlearn: 1.5271797\ttotal: 2.22s\tremaining: 822ms\n",
      "73:\tlearn: 1.5069222\ttotal: 2.25s\tremaining: 789ms\n",
      "74:\tlearn: 1.4866702\ttotal: 2.27s\tremaining: 758ms\n",
      "75:\tlearn: 1.4642178\ttotal: 2.3s\tremaining: 727ms\n",
      "76:\tlearn: 1.4411956\ttotal: 2.33s\tremaining: 695ms\n",
      "77:\tlearn: 1.4209609\ttotal: 2.35s\tremaining: 664ms\n",
      "78:\tlearn: 1.4116820\ttotal: 2.38s\tremaining: 633ms\n",
      "79:\tlearn: 1.3982170\ttotal: 2.41s\tremaining: 602ms\n",
      "80:\tlearn: 1.3899478\ttotal: 2.43s\tremaining: 570ms\n",
      "81:\tlearn: 1.3817641\ttotal: 2.46s\tremaining: 539ms\n",
      "82:\tlearn: 1.3681673\ttotal: 2.48s\tremaining: 507ms\n",
      "83:\tlearn: 1.3492711\ttotal: 2.5s\tremaining: 477ms\n",
      "84:\tlearn: 1.3428308\ttotal: 2.53s\tremaining: 446ms\n",
      "85:\tlearn: 1.3378903\ttotal: 2.55s\tremaining: 415ms\n",
      "86:\tlearn: 1.3187697\ttotal: 2.57s\tremaining: 384ms\n",
      "87:\tlearn: 1.3069482\ttotal: 2.6s\tremaining: 354ms\n",
      "88:\tlearn: 1.2885522\ttotal: 2.62s\tremaining: 324ms\n",
      "89:\tlearn: 1.2783592\ttotal: 2.64s\tremaining: 294ms\n",
      "90:\tlearn: 1.2715323\ttotal: 2.66s\tremaining: 263ms\n",
      "91:\tlearn: 1.2602591\ttotal: 2.68s\tremaining: 233ms\n",
      "92:\tlearn: 1.2509981\ttotal: 2.7s\tremaining: 203ms\n",
      "93:\tlearn: 1.2364336\ttotal: 2.72s\tremaining: 174ms\n",
      "94:\tlearn: 1.2225997\ttotal: 2.74s\tremaining: 144ms\n",
      "95:\tlearn: 1.2114288\ttotal: 2.76s\tremaining: 115ms\n",
      "96:\tlearn: 1.1993149\ttotal: 2.79s\tremaining: 86.1ms\n",
      "97:\tlearn: 1.1889810\ttotal: 2.81s\tremaining: 57.3ms\n",
      "98:\tlearn: 1.1786266\ttotal: 2.83s\tremaining: 28.6ms\n",
      "99:\tlearn: 1.1668114\ttotal: 2.85s\tremaining: 0us\n"
     ]
    },
    {
     "data": {
      "text/plain": [
       "<catboost.core.CatBoostRegressor at 0x2a40f108850>"
      ]
     },
     "execution_count": 18,
     "metadata": {},
     "output_type": "execute_result"
    }
   ],
   "source": [
    "from catboost import CatBoostRegressor\n",
    "model1 = CatBoostRegressor(**params)\n",
    "X_df= X_df.select_dtypes(include = ['float64' , 'int64'])\n",
    "model1.fit(X_df , y)"
   ]
  },
  {
   "cell_type": "code",
   "execution_count": 19,
   "id": "12d754a5",
   "metadata": {},
   "outputs": [],
   "source": [
    "model1_predict = model1.predict(X_df)"
   ]
  },
  {
   "cell_type": "code",
   "execution_count": 20,
   "id": "03dc82a9",
   "metadata": {},
   "outputs": [
    {
     "name": "stdout",
     "output_type": "stream",
     "text": [
      "MSE:  1.361449439819679\n",
      "MAE:  0.8433893060082247\n",
      "R2:  0.9982316395461835\n",
      "RMSE:  1.1668116556752761\n"
     ]
    }
   ],
   "source": [
    "from sklearn.metrics import mean_squared_error\n",
    "from sklearn.metrics import mean_absolute_error\n",
    "from sklearn.metrics import r2_score\n",
    "\n",
    "print(\"MSE: \", mean_squared_error(y, model1_predict))\n",
    "print(\"MAE: \", mean_absolute_error(y, model1_predict))\n",
    "print(\"R2: \", r2_score(y, model1_predict))\n",
    "print(\"RMSE: \", mean_squared_error(y, model1_predict, squared=False))"
   ]
  },
  {
   "cell_type": "code",
   "execution_count": 21,
   "id": "80c1723e",
   "metadata": {},
   "outputs": [
    {
     "name": "stdout",
     "output_type": "stream",
     "text": [
      "MSE 1.937073766713014e-23\n",
      "R squared 1.0\n"
     ]
    }
   ],
   "source": [
    "from sklearn.linear_model import LinearRegression\n",
    "from sklearn import metrics\n",
    "x_train,x_test,y_train,y_test=train_test_split(X_df,y,test_size=0.30,random_state=30) #splitting data with test size of 35%\n",
    "model=LinearRegression() #build linear regression model\n",
    "model.fit(x_train,y_train) #fitting the training data\n",
    "predicted=model.predict(x_test) #testing our model’s performance\n",
    "print(\"MSE\", mean_squared_error(y_test,predicted))\n",
    "print(\"R squared\", metrics.r2_score(y_test,predicted))"
   ]
  },
  {
   "cell_type": "code",
   "execution_count": 24,
   "id": "bcebff89",
   "metadata": {},
   "outputs": [
    {
     "name": "stdout",
     "output_type": "stream",
     "text": [
      "MSE:  9.218781197315356e-06\n",
      "R squared:  0.9999999874872962\n"
     ]
    }
   ],
   "source": [
    "from sklearn.preprocessing import PolynomialFeatures\n",
    "lg=LinearRegression()\n",
    "poly=PolynomialFeatures(degree=2)\n",
    "x_train_fit = poly.fit_transform(x_train) #transforming our input data\n",
    "lg.fit(x_train_fit, y_train)\n",
    "x_test_ = poly.fit_transform(x_test)\n",
    "predicted = lg.predict(x_test_)\n",
    "print(\"MSE: \", metrics.mean_squared_error(y_test, predicted))\n",
    "print(\"R squared: \", metrics.r2_score(y_test,predicted))"
   ]
  },
  {
   "cell_type": "code",
   "execution_count": 25,
   "id": "b4ba78e3",
   "metadata": {},
   "outputs": [
    {
     "name": "stdout",
     "output_type": "stream",
     "text": [
      "Mean Cross-Validation Score: 1.0\n"
     ]
    }
   ],
   "source": [
    "from sklearn.model_selection import cross_val_score\n",
    "\n",
    "\n",
    "# Example with k-Fold Cross-Validation\n",
    "model = LinearRegression()\n",
    "scores = cross_val_score(model, X_df, y, cv=10)  # 10-Fold Cross-Validation\n",
    "print(\"Mean Cross-Validation Score:\", scores.mean())"
   ]
  },
  {
   "cell_type": "code",
   "execution_count": null,
   "id": "d4b3a1f7",
   "metadata": {},
   "outputs": [],
   "source": []
  }
 ],
 "metadata": {
  "kernelspec": {
   "display_name": "Python 3 (ipykernel)",
   "language": "python",
   "name": "python3"
  },
  "language_info": {
   "codemirror_mode": {
    "name": "ipython",
    "version": 3
   },
   "file_extension": ".py",
   "mimetype": "text/x-python",
   "name": "python",
   "nbconvert_exporter": "python",
   "pygments_lexer": "ipython3",
   "version": "3.11.7"
  }
 },
 "nbformat": 4,
 "nbformat_minor": 5
}
