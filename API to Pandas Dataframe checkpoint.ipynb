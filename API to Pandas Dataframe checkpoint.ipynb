{
 "cells": [
  {
   "cell_type": "code",
   "execution_count": 1,
   "id": "01ec1916",
   "metadata": {},
   "outputs": [
    {
     "name": "stdout",
     "output_type": "stream",
     "text": [
      "Requirement already satisfied: requests in c:\\users\\pc\\anaconda3\\lib\\site-packages (2.31.0)\n",
      "Requirement already satisfied: charset-normalizer<4,>=2 in c:\\users\\pc\\anaconda3\\lib\\site-packages (from requests) (2.0.4)\n",
      "Requirement already satisfied: idna<4,>=2.5 in c:\\users\\pc\\anaconda3\\lib\\site-packages (from requests) (3.4)\n",
      "Requirement already satisfied: urllib3<3,>=1.21.1 in c:\\users\\pc\\anaconda3\\lib\\site-packages (from requests) (2.0.7)\n",
      "Requirement already satisfied: certifi>=2017.4.17 in c:\\users\\pc\\anaconda3\\lib\\site-packages (from requests) (2024.2.2)\n",
      "Note: you may need to restart the kernel to use updated packages.\n"
     ]
    }
   ],
   "source": [
    "pip install requests"
   ]
  },
  {
   "cell_type": "code",
   "execution_count": 3,
   "id": "5f56b3aa",
   "metadata": {},
   "outputs": [
    {
     "data": {
      "text/plain": [
       "{'userId': 1, 'id': 1, 'title': 'delectus aut autem', 'completed': False}"
      ]
     },
     "execution_count": 3,
     "metadata": {},
     "output_type": "execute_result"
    }
   ],
   "source": [
    "import requests\n",
    "api_url = \"https://jsonplaceholder.typicode.com/todos/1\"\n",
    "response = requests.get(api_url)\n",
    "response.json()\n"
   ]
  },
  {
   "cell_type": "code",
   "execution_count": 4,
   "id": "d358b58e",
   "metadata": {},
   "outputs": [
    {
     "data": {
      "text/plain": [
       "200"
      ]
     },
     "execution_count": 4,
     "metadata": {},
     "output_type": "execute_result"
    }
   ],
   "source": [
    "response.status_code"
   ]
  },
  {
   "cell_type": "code",
   "execution_count": 5,
   "id": "68aa8321",
   "metadata": {},
   "outputs": [
    {
     "data": {
      "text/plain": [
       "'application/json; charset=utf-8'"
      ]
     },
     "execution_count": 5,
     "metadata": {},
     "output_type": "execute_result"
    }
   ],
   "source": [
    "response.headers[\"Content-Type\"]"
   ]
  },
  {
   "cell_type": "code",
   "execution_count": 9,
   "id": "49fc1a17",
   "metadata": {},
   "outputs": [],
   "source": [
    "API_KEY = 'ChpGODgDbXeps7rd4tScxgDwoXjb3sd4ypi4LiAP'"
   ]
  },
  {
   "cell_type": "code",
   "execution_count": 10,
   "id": "175d4a03",
   "metadata": {},
   "outputs": [
    {
     "name": "stdout",
     "output_type": "stream",
     "text": [
      "{'copyright': 'Tunc Tezel', 'date': '2024-08-02', 'explanation': \"As Mars wanders through Earth's night, it passes about 5 degrees south of the Pleiades star cluster in this composite astrophoto. The skyview was constructed from a series of images captured over a run of 16 consecutive clear nights beginning on July 12. Mars' march across the field of view begins at the far right, the planet's ruddy hue. showing a nice contrast with the blue Pleiades stars. Moving much faster across the sky against the distant stars, the fourth planet from the Sun easily passes seventh planet Uranus, also moving across this field of view. Red planet Mars and the ice giant world were in close conjunction, about 1/2 degree apart, on July 16. Continuing its rapid eastward trek, Mars has now left the sister stars and outer planet behind though, passing north of red giant star Aldebaran. Mars will come within about 1/3 degree of Jupiter in planet Earth's sky on August 14.\", 'hdurl': 'https://apod.nasa.gov/apod/image/2408/2024MaUrM45.jpg', 'media_type': 'image', 'service_version': 'v1', 'title': 'Mars Passing By', 'url': 'https://apod.nasa.gov/apod/image/2408/2024MaUrM45_1024.jpg'}\n"
     ]
    }
   ],
   "source": [
    "apod_url = f'https://api.nasa.gov/planetary/apod?api_key={API_KEY}'\n",
    "\n",
    "response = requests.get(apod_url)\n",
    "\n",
    "if response.status_code == 200:\n",
    "    apod_data = response.json()\n",
    "    print(apod_data)\n",
    "else:\n",
    "    print(f\"Error: {response.status_code}\")"
   ]
  },
  {
   "cell_type": "code",
   "execution_count": 11,
   "id": "69237b93",
   "metadata": {},
   "outputs": [
    {
     "data": {
      "text/html": [
       "<img src=\"https://apod.nasa.gov/apod/image/2408/2024MaUrM45_1024.jpg\"/>"
      ],
      "text/plain": [
       "<IPython.core.display.Image object>"
      ]
     },
     "execution_count": 11,
     "metadata": {},
     "output_type": "execute_result"
    }
   ],
   "source": [
    "from IPython.display import Image\n",
    "\n",
    "# Display the image\n",
    "Image(url=apod_data['url'])"
   ]
  },
  {
   "cell_type": "code",
   "execution_count": 12,
   "id": "c36f24cc",
   "metadata": {},
   "outputs": [],
   "source": [
    "import pandas as pd\n",
    "\n",
    "# Define the NEO endpoint\n",
    "neo_url = f'https://api.nasa.gov/neo/rest/v1/neo/browse?api_key={API_KEY}'\n",
    "\n",
    "# Make the request\n",
    "response = requests.get(neo_url)\n",
    "\n",
    "# Check the status of the request\n",
    "if response.status_code == 200:\n",
    "    neo_data = response.json()\n",
    "else:\n",
    "    print(f\"Error: {response.status_code}\")\n",
    "\n",
    "# Extract relevant data\n",
    "asteroids = neo_data['near_earth_objects']\n",
    "asteroids_list = []\n",
    "\n",
    "for asteroid in asteroids:\n",
    "    asteroid_id = asteroid['id']\n",
    "    asteroid_name = asteroid['name']\n",
    "    min_diameter_km = asteroid['estimated_diameter']['kilometers']['estimated_diameter_min']\n",
    "    absolute_magnitude = asteroid['absolute_magnitude_h']\n",
    "    relative_velocity = asteroid['close_approach_data'][0]['relative_velocity']['kilometers_per_hour']\n",
    "\n",
    "    asteroids_list.append({\n",
    "        'Asteroid ID': asteroid_id,\n",
    "        'Asteroid Name': asteroid_name,\n",
    "        'Minimal Estimated Diameter (km)': min_diameter_km,\n",
    "        'Absolute Magnitude': absolute_magnitude,\n",
    "        'Relative Velocity (km/h)': relative_velocity\n",
    "    })\n",
    "\n",
    "# Create a DataFrame\n",
    "df_asteroids = pd.DataFrame(asteroids_list)\n"
   ]
  },
  {
   "cell_type": "code",
   "execution_count": 13,
   "id": "5d091174",
   "metadata": {},
   "outputs": [
    {
     "data": {
      "text/html": [
       "<div>\n",
       "<style scoped>\n",
       "    .dataframe tbody tr th:only-of-type {\n",
       "        vertical-align: middle;\n",
       "    }\n",
       "\n",
       "    .dataframe tbody tr th {\n",
       "        vertical-align: top;\n",
       "    }\n",
       "\n",
       "    .dataframe thead th {\n",
       "        text-align: right;\n",
       "    }\n",
       "</style>\n",
       "<table border=\"1\" class=\"dataframe\">\n",
       "  <thead>\n",
       "    <tr style=\"text-align: right;\">\n",
       "      <th></th>\n",
       "      <th>Asteroid ID</th>\n",
       "      <th>Asteroid Name</th>\n",
       "      <th>Min Diameter (km)</th>\n",
       "      <th>Absolute Magnitude</th>\n",
       "      <th>Relative Velocity (km/s)</th>\n",
       "    </tr>\n",
       "  </thead>\n",
       "  <tbody>\n",
       "    <tr>\n",
       "      <th>0</th>\n",
       "      <td>2000433</td>\n",
       "      <td>433 Eros (A898 PA)</td>\n",
       "      <td>22.006703</td>\n",
       "      <td>10.41</td>\n",
       "      <td>5.578619</td>\n",
       "    </tr>\n",
       "    <tr>\n",
       "      <th>1</th>\n",
       "      <td>2000719</td>\n",
       "      <td>719 Albert (A911 TB)</td>\n",
       "      <td>2.025606</td>\n",
       "      <td>15.59</td>\n",
       "      <td>3.446029</td>\n",
       "    </tr>\n",
       "    <tr>\n",
       "      <th>2</th>\n",
       "      <td>2000887</td>\n",
       "      <td>887 Alinda (A918 AA)</td>\n",
       "      <td>4.451998</td>\n",
       "      <td>13.88</td>\n",
       "      <td>6.804792</td>\n",
       "    </tr>\n",
       "    <tr>\n",
       "      <th>3</th>\n",
       "      <td>2001036</td>\n",
       "      <td>1036 Ganymed (A924 UB)</td>\n",
       "      <td>37.545248</td>\n",
       "      <td>9.25</td>\n",
       "      <td>6.303866</td>\n",
       "    </tr>\n",
       "    <tr>\n",
       "      <th>4</th>\n",
       "      <td>2001221</td>\n",
       "      <td>1221 Amor (1932 EA1)</td>\n",
       "      <td>0.888290</td>\n",
       "      <td>17.38</td>\n",
       "      <td>13.269379</td>\n",
       "    </tr>\n",
       "  </tbody>\n",
       "</table>\n",
       "</div>"
      ],
      "text/plain": [
       "  Asteroid ID           Asteroid Name  Min Diameter (km)  Absolute Magnitude  \\\n",
       "0     2000433      433 Eros (A898 PA)          22.006703               10.41   \n",
       "1     2000719    719 Albert (A911 TB)           2.025606               15.59   \n",
       "2     2000887    887 Alinda (A918 AA)           4.451998               13.88   \n",
       "3     2001036  1036 Ganymed (A924 UB)          37.545248                9.25   \n",
       "4     2001221    1221 Amor (1932 EA1)           0.888290               17.38   \n",
       "\n",
       "   Relative Velocity (km/s)  \n",
       "0                  5.578619  \n",
       "1                  3.446029  \n",
       "2                  6.804792  \n",
       "3                  6.303866  \n",
       "4                 13.269379  "
      ]
     },
     "execution_count": 13,
     "metadata": {},
     "output_type": "execute_result"
    }
   ],
   "source": [
    "# Convert relative velocity to km/s\n",
    "df_asteroids['Relative Velocity (km/s)'] = df_asteroids['Relative Velocity (km/h)'].astype(float) / 3600\n",
    "\n",
    "# Drop the original km/h column\n",
    "df_asteroids.drop(columns=['Relative Velocity (km/h)'], inplace=True)\n",
    "\n",
    "# Rename columns for clarity\n",
    "df_asteroids.rename(columns={\n",
    "    'Minimal Estimated Diameter (km)': 'Min Diameter (km)',\n",
    "    'Relative Velocity (km/s)': 'Relative Velocity (km/s)'\n",
    "}, inplace=True)\n",
    "\n",
    "# Display the cleaned DataFrame\n",
    "df_asteroids.head()\n"
   ]
  },
  {
   "cell_type": "code",
   "execution_count": 14,
   "id": "c7f8797d",
   "metadata": {},
   "outputs": [
    {
     "name": "stdout",
     "output_type": "stream",
     "text": [
      "Data exported to asteroids_data.csv\n"
     ]
    }
   ],
   "source": [
    "# Export the DataFrame to a CSV file\n",
    "csv_file_path = 'asteroids_data.csv'\n",
    "df_asteroids.to_csv(csv_file_path, index=False)\n",
    "\n",
    "print(f\"Data exported to {csv_file_path}\")"
   ]
  },
  {
   "cell_type": "code",
   "execution_count": null,
   "id": "cf2ecc4f",
   "metadata": {},
   "outputs": [],
   "source": []
  }
 ],
 "metadata": {
  "kernelspec": {
   "display_name": "Python 3 (ipykernel)",
   "language": "python",
   "name": "python3"
  },
  "language_info": {
   "codemirror_mode": {
    "name": "ipython",
    "version": 3
   },
   "file_extension": ".py",
   "mimetype": "text/x-python",
   "name": "python",
   "nbconvert_exporter": "python",
   "pygments_lexer": "ipython3",
   "version": "3.11.7"
  }
 },
 "nbformat": 4,
 "nbformat_minor": 5
}
