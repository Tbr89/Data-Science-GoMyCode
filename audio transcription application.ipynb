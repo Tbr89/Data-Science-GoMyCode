{
 "cells": [
  {
   "cell_type": "code",
   "execution_count": 2,
   "id": "e19bd8ad",
   "metadata": {},
   "outputs": [],
   "source": [
    "import streamlit as st\n",
    "\n"
   ]
  },
  {
   "cell_type": "code",
   "execution_count": 12,
   "id": "2ca470f0",
   "metadata": {},
   "outputs": [],
   "source": [
    "import speech_recognition as sr\n"
   ]
  },
  {
   "cell_type": "code",
   "execution_count": 13,
   "id": "3f3008fb",
   "metadata": {},
   "outputs": [],
   "source": [
    "def transcribe_speech():\n",
    "\n",
    "    # Initialize recognizer class\n",
    "\n",
    "    r = sr.Recognizer()\n",
    "\n",
    "    # Reading Microphone as source\n",
    "\n",
    "    with sr.Microphone() as source:\n",
    "\n",
    "        st.info(\"Speak now...\")\n",
    "\n",
    "        # listen for speech and store in audio_text variable\n",
    "\n",
    "        audio_text = r.listen(source)\n",
    "\n",
    "        st.info(\"Transcribing...\")\n",
    "\n",
    "\n",
    "\n",
    "        try:\n",
    "\n",
    "            # using Google Speech Recognition\n",
    "\n",
    "            text = r.recognize_google(audio_text)\n",
    "\n",
    "            return text\n",
    "\n",
    "        except:\n",
    "\n",
    "            return \"Sorry, I did not get that.\""
   ]
  },
  {
   "cell_type": "code",
   "execution_count": 14,
   "id": "43ada6a3",
   "metadata": {},
   "outputs": [
    {
     "name": "stderr",
     "output_type": "stream",
     "text": [
      "2024-09-26 20:38:20.379 WARNING streamlit.runtime.scriptrunner_utils.script_run_context: Thread 'MainThread': missing ScriptRunContext! This warning can be ignored when running in bare mode.\n",
      "2024-09-26 20:38:20.588 \n",
      "  \u001b[33m\u001b[1mWarning:\u001b[0m to view this Streamlit app on a browser, run it with the following\n",
      "  command:\n",
      "\n",
      "    streamlit run C:\\Users\\PC\\anaconda3\\Lib\\site-packages\\ipykernel_launcher.py [ARGUMENTS]\n",
      "2024-09-26 20:38:20.605 Thread 'MainThread': missing ScriptRunContext! This warning can be ignored when running in bare mode.\n",
      "2024-09-26 20:38:20.612 Thread 'MainThread': missing ScriptRunContext! This warning can be ignored when running in bare mode.\n",
      "2024-09-26 20:38:20.617 Thread 'MainThread': missing ScriptRunContext! This warning can be ignored when running in bare mode.\n",
      "2024-09-26 20:38:20.617 Thread 'MainThread': missing ScriptRunContext! This warning can be ignored when running in bare mode.\n",
      "2024-09-26 20:38:20.635 Thread 'MainThread': missing ScriptRunContext! This warning can be ignored when running in bare mode.\n",
      "2024-09-26 20:38:20.638 Thread 'MainThread': missing ScriptRunContext! This warning can be ignored when running in bare mode.\n",
      "2024-09-26 20:38:20.650 Thread 'MainThread': missing ScriptRunContext! This warning can be ignored when running in bare mode.\n",
      "2024-09-26 20:38:20.650 Thread 'MainThread': missing ScriptRunContext! This warning can be ignored when running in bare mode.\n",
      "2024-09-26 20:38:20.667 Thread 'MainThread': missing ScriptRunContext! This warning can be ignored when running in bare mode.\n"
     ]
    }
   ],
   "source": [
    "def main():\n",
    "\n",
    "    st.title(\"Speech Recognition App\")\n",
    "\n",
    "    st.write(\"Click on the microphone to start speaking:\")\n",
    "\n",
    "\n",
    "\n",
    "    # add a button to trigger speech recognition\n",
    "\n",
    "    if st.button(\"Start Recording\"):\n",
    "\n",
    "        text = transcribe_speech()\n",
    "\n",
    "        st.write(\"Transcription: \", text)\n",
    "\n",
    "if __name__ == \"__main__\":\n",
    "\n",
    "    main()"
   ]
  },
  {
   "cell_type": "code",
   "execution_count": null,
   "id": "b6c384bd",
   "metadata": {},
   "outputs": [],
   "source": []
  }
 ],
 "metadata": {
  "kernelspec": {
   "display_name": "Python 3 (ipykernel)",
   "language": "python",
   "name": "python3"
  },
  "language_info": {
   "codemirror_mode": {
    "name": "ipython",
    "version": 3
   },
   "file_extension": ".py",
   "mimetype": "text/x-python",
   "name": "python",
   "nbconvert_exporter": "python",
   "pygments_lexer": "ipython3",
   "version": "3.11.7"
  }
 },
 "nbformat": 4,
 "nbformat_minor": 5
}
