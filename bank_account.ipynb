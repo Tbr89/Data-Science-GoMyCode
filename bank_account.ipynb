{
 "cells": [
  {
   "cell_type": "code",
   "execution_count": 3,
   "id": "0cc26c7f-811c-428b-ae7b-2b733bad3a9b",
   "metadata": {
    "tags": []
   },
   "outputs": [
    {
     "name": "stdout",
     "output_type": "stream",
     "text": [
      "2000\n"
     ]
    }
   ],
   "source": [
    "class Account :\n",
    "    def __init__(self,number,balance,holder):\n",
    "        self.number = number\n",
    "        self.balance= balance\n",
    "        self.holder= holder\n",
    "    def deposit(self,amount):\n",
    "        self.balance = self.balance + amount\n",
    "        return self.balance\n",
    "    def withdraw(self,amount):\n",
    "        if self.balance > amount :\n",
    "            self.balance = self.balance - amount\n",
    "            return self.balance\n",
    "        else :\n",
    "            print(\"Sorry not enough balance in your account.\")\n",
    "    def check_balance(self):\n",
    "        return self.balance\n",
    "    \n",
    "my_account = Account(1,2000,\"Laurent\")\n",
    "print(my_account.check_balance())"
   ]
  },
  {
   "cell_type": "code",
   "execution_count": null,
   "id": "669437c0-6012-4c32-bf13-498c153e1d51",
   "metadata": {},
   "outputs": [],
   "source": []
  }
 ],
 "metadata": {
  "kernelspec": {
   "display_name": "Python 3 (ipykernel)",
   "language": "python",
   "name": "python3"
  },
  "language_info": {
   "codemirror_mode": {
    "name": "ipython",
    "version": 3
   },
   "file_extension": ".py",
   "mimetype": "text/x-python",
   "name": "python",
   "nbconvert_exporter": "python",
   "pygments_lexer": "ipython3",
   "version": "3.11.7"
  }
 },
 "nbformat": 4,
 "nbformat_minor": 5
}
