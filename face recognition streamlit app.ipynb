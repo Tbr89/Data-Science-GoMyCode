{
 "cells": [
  {
   "cell_type": "code",
   "execution_count": 16,
   "id": "7e0f6c0d",
   "metadata": {},
   "outputs": [],
   "source": [
    "import cv2\n",
    "import streamlit as st"
   ]
  },
  {
   "cell_type": "code",
   "execution_count": 17,
   "id": "ff2720ad",
   "metadata": {},
   "outputs": [],
   "source": [
    "face_cascade = cv2.CascadeClassifier(r'C:\\Users\\PC\\Downloads\\haarcascade_frontalface_default.xml')"
   ]
  },
  {
   "cell_type": "code",
   "execution_count": 18,
   "id": "f17becae",
   "metadata": {},
   "outputs": [
    {
     "data": {
      "text/plain": [
       "< cv2.CascadeClassifier 00000201DE39FD90>"
      ]
     },
     "execution_count": 18,
     "metadata": {},
     "output_type": "execute_result"
    }
   ],
   "source": [
    "face_cascade\n"
   ]
  },
  {
   "cell_type": "code",
   "execution_count": 19,
   "id": "3dea6498",
   "metadata": {},
   "outputs": [],
   "source": [
    " # Initialize the webcam\n",
    "def detect_faces():\n",
    "    cap = cv2.VideoCapture(0)\n",
    "    while True:\n",
    "        # Read the frames from the webcam\n",
    "        ret, frame = cap.read()\n",
    "        # Convert the frames to grayscale\n",
    "        gray = cv2.cvtColor(frame, cv2.COLOR_BGR2GRAY)\n",
    "        # Detect the faces using the face cascade classifier\n",
    "        faces = face_cascade.detectMultiScale(gray, scaleFactor=1.3, minNeighbors=5)\n",
    "        # Draw rectangles around the detected faces\n",
    "        for (x, y, w, h) in faces:\n",
    "            cv2.rectangle(frame, (x, y), (x + w, y + h), (0, 255, 0), 2)\n",
    "        # Display the frames\n",
    "        cv2.imshow('Face Detection using Viola-Jones Algorithm', frame)\n",
    "        # Exit the loop when 'q' is pressed\n",
    "        if cv2.waitKey(1) & 0xFF == ord('q'):\n",
    "            break\n",
    "    # Release the webcam and close all windows\n",
    "    cap.release()\n",
    "    cv2.destroyAllWindows()"
   ]
  },
  {
   "cell_type": "code",
   "execution_count": 20,
   "id": "514d1534",
   "metadata": {},
   "outputs": [
    {
     "name": "stderr",
     "output_type": "stream",
     "text": [
      "2024-09-26 21:05:13.020 Thread 'MainThread': missing ScriptRunContext! This warning can be ignored when running in bare mode.\n",
      "2024-09-26 21:05:13.022 Thread 'MainThread': missing ScriptRunContext! This warning can be ignored when running in bare mode.\n",
      "2024-09-26 21:05:13.023 Thread 'MainThread': missing ScriptRunContext! This warning can be ignored when running in bare mode.\n",
      "2024-09-26 21:05:13.025 Thread 'MainThread': missing ScriptRunContext! This warning can be ignored when running in bare mode.\n",
      "2024-09-26 21:05:13.026 Thread 'MainThread': missing ScriptRunContext! This warning can be ignored when running in bare mode.\n",
      "2024-09-26 21:05:13.027 Thread 'MainThread': missing ScriptRunContext! This warning can be ignored when running in bare mode.\n",
      "2024-09-26 21:05:13.028 Thread 'MainThread': missing ScriptRunContext! This warning can be ignored when running in bare mode.\n",
      "2024-09-26 21:05:13.031 Thread 'MainThread': missing ScriptRunContext! This warning can be ignored when running in bare mode.\n",
      "2024-09-26 21:05:13.033 Thread 'MainThread': missing ScriptRunContext! This warning can be ignored when running in bare mode.\n",
      "2024-09-26 21:05:13.034 Thread 'MainThread': missing ScriptRunContext! This warning can be ignored when running in bare mode.\n"
     ]
    }
   ],
   "source": [
    "def app():\n",
    "    st.title(\"Face Detection using Viola-Jones Algorithm\")\n",
    "    st.write(\"Press the button below to start detecting faces from your webcam\")\n",
    "    # Add a button to start detecting faces\n",
    "    if st.button(\"Detect Faces\"):\n",
    "        # Call the detect_faces function\n",
    "        detect_faces()\n",
    "if __name__ == \"__main__\":\n",
    "    app()"
   ]
  },
  {
   "cell_type": "code",
   "execution_count": null,
   "id": "41e51a03",
   "metadata": {},
   "outputs": [],
   "source": []
  }
 ],
 "metadata": {
  "kernelspec": {
   "display_name": "Python 3 (ipykernel)",
   "language": "python",
   "name": "python3"
  },
  "language_info": {
   "codemirror_mode": {
    "name": "ipython",
    "version": 3
   },
   "file_extension": ".py",
   "mimetype": "text/x-python",
   "name": "python",
   "nbconvert_exporter": "python",
   "pygments_lexer": "ipython3",
   "version": "3.11.7"
  }
 },
 "nbformat": 4,
 "nbformat_minor": 5
}
