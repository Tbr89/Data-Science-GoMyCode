{
 "cells": [
  {
   "cell_type": "code",
   "execution_count": 25,
   "id": "9d0f43dd-c16d-4596-bb18-a33d57d2143e",
   "metadata": {},
   "outputs": [
    {
     "name": "stdin",
     "output_type": "stream",
     "text": [
      "Faites entrez le nombre de notes 3\n",
      "Insérez le résultat n°1:  1\n",
      "Insérez le résultat n°2:  2\n",
      "Insérez le résultat n°3:  3\n"
     ]
    },
    {
     "name": "stdout",
     "output_type": "stream",
     "text": [
      "Les notes sont: \n",
      "Note n°1: 1\n",
      "Note n°2: 2\n",
      "Note n°3: 3\n"
     ]
    }
   ],
   "source": [
    "notes_dictionnaries = {}\n",
    "n = int(input(\"Faites entrez le nombre de notes\"))\n",
    "for i in range (1,n+1) :\n",
    "    Note = input (f\"Insérez le résultat n°{i}: \")\n",
    "    notes_dictionnaries [f\"Note n°{i}\"] = Note\n",
    "\n",
    "print (\"Les notes sont: \")\n",
    "for key, value in notes_dictionnaries.items():\n",
    "        print(f\"{key}: {value}\")\n",
    "\n",
    "\n",
    "\n",
    "\n",
    "\n",
    "    \n",
    "\n",
    "\n",
    "\n",
    "\n"
   ]
  },
  {
   "cell_type": "code",
   "execution_count": null,
   "id": "f8e4d91d-d611-421e-8af4-52aa85973f19",
   "metadata": {},
   "outputs": [],
   "source": []
  },
  {
   "cell_type": "code",
   "execution_count": null,
   "id": "0d20c41e-a62b-42b6-afcb-29722f90cf1d",
   "metadata": {},
   "outputs": [],
   "source": []
  }
 ],
 "metadata": {
  "kernelspec": {
   "display_name": "Python 3 (ipykernel)",
   "language": "python",
   "name": "python3"
  },
  "language_info": {
   "codemirror_mode": {
    "name": "ipython",
    "version": 3
   },
   "file_extension": ".py",
   "mimetype": "text/x-python",
   "name": "python",
   "nbconvert_exporter": "python",
   "pygments_lexer": "ipython3",
   "version": "3.11.7"
  }
 },
 "nbformat": 4,
 "nbformat_minor": 5
}
