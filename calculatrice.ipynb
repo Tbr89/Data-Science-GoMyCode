{
 "cells": [
  {
   "cell_type": "code",
   "execution_count": null,
   "id": "fc7df594-66e6-47fa-b2c7-b2485cb33ec4",
   "metadata": {},
   "outputs": [
    {
     "name": "stdin",
     "output_type": "stream",
     "text": [
      "Insert the first number:  3\n"
     ]
    },
    {
     "name": "stdout",
     "output_type": "stream",
     "text": [
      " The available operations are + - \\ *: \n"
     ]
    },
    {
     "name": "stdin",
     "output_type": "stream",
     "text": [
      "Select an operation symbol /\n",
      "Select the second number 0\n"
     ]
    },
    {
     "name": "stdout",
     "output_type": "stream",
     "text": [
      "Error, please enter another non zero divisor\n"
     ]
    },
    {
     "name": "stdin",
     "output_type": "stream",
     "text": [
      "Enter a non zero divisor 3\n"
     ]
    },
    {
     "name": "stdout",
     "output_type": "stream",
     "text": [
      "3.0 / 3.0 = 1.0\n"
     ]
    },
    {
     "name": "stdin",
     "output_type": "stream",
     "text": [
      " whould you like to continue with the result as first number ? yes\n",
      "Select an operation symbol *\n",
      "Select the second number 9\n"
     ]
    },
    {
     "name": "stdout",
     "output_type": "stream",
     "text": [
      "1.0 * 9.0 = 9.0\n"
     ]
    },
    {
     "name": "stdin",
     "output_type": "stream",
     "text": [
      " whould you like to continue with the result as first number ? yes\n",
      "Select an operation symbol +\n",
      "Select the second number 6\n"
     ]
    },
    {
     "name": "stdout",
     "output_type": "stream",
     "text": [
      "9.0 + 6.0 = 15.0\n"
     ]
    },
    {
     "name": "stdin",
     "output_type": "stream",
     "text": [
      " whould you like to continue with the result as first number ? no\n"
     ]
    }
   ],
   "source": [
    "\n",
    "def add (x,y):\n",
    "    return(x+y)\n",
    "def substract (x,y):\n",
    "    return(x-y)\n",
    "def multiply (x,y) :\n",
    "    return(x*y)\n",
    "def divide(x,y):\n",
    "    return(x/y)\n",
    "operations = { \"+\": add ,  \"-\": substract, \"*\": multiply ,\"/\": divide} \n",
    "\n",
    "def calculator() :\n",
    "    num1 = float(input (\"Insert the first number: \"))\n",
    "    print (\" The available operations are + - \\ *: \")\n",
    "    should_continue = True\n",
    "    while should_continue :\n",
    "        operation = input (\"Select an operation symbol\")\n",
    "        if operation not in operations :\n",
    "            print(\" Operation invalid! Please choose from available operations.\")\n",
    "            continue\n",
    "        num2 = float(input(\"Select the second number\")) \n",
    "        if (operation == '/') :\n",
    "            while True:\n",
    "                  if num2 == 0:\n",
    "                      print(\"Error, please enter another non zero divisor\")\n",
    "                      num2 = float(input(\"Enter a non zero divisor\"))\n",
    "                  else:\n",
    "                      break \n",
    "        calculate_function = operations[operation]\n",
    "        answer = calculate_function(num1,num2)\n",
    "        print(f\"{num1} {operation} {num2} = {answer}\")\n",
    "        choice = input (\" whould you like to continue with the result as first number ?\")\n",
    "        if choice == \"yes\" :\n",
    "            num1 = answer\n",
    "        elif choice  == \"no\":\n",
    "            should_continue = False\n",
    "            calculator()\n",
    "\n",
    "calculator()\n",
    "    \n",
    " "
   ]
  },
  {
   "cell_type": "code",
   "execution_count": null,
   "id": "5f02bcdf-ec90-4629-8bfb-889e4e3a9508",
   "metadata": {},
   "outputs": [],
   "source": []
  }
 ],
 "metadata": {
  "kernelspec": {
   "display_name": "Python 3 (ipykernel)",
   "language": "python",
   "name": "python3"
  },
  "language_info": {
   "codemirror_mode": {
    "name": "ipython",
    "version": 3
   },
   "file_extension": ".py",
   "mimetype": "text/x-python",
   "name": "python",
   "nbconvert_exporter": "python",
   "pygments_lexer": "ipython3",
   "version": "3.11.7"
  }
 },
 "nbformat": 4,
 "nbformat_minor": 5
}
