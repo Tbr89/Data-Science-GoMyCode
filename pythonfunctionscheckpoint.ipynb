{
 "cells": [
  {
   "cell_type": "code",
   "execution_count": null,
   "id": "906bee92-d3e7-4f51-b4d9-a0611559876a",
   "metadata": {},
   "outputs": [
    {
     "name": "stdin",
     "output_type": "stream",
     "text": [
      "Insert the first number:  1\n"
     ]
    },
    {
     "name": "stdout",
     "output_type": "stream",
     "text": [
      " The available operations are : \n",
      "+\n",
      "-\n",
      "*\n",
      "/\n"
     ]
    },
    {
     "name": "stdin",
     "output_type": "stream",
     "text": [
      "Select an operation symbol *\n",
      "Select the second number 3\n"
     ]
    },
    {
     "name": "stdout",
     "output_type": "stream",
     "text": [
      "1.0 * 3.0 = 3.0\n"
     ]
    },
    {
     "name": "stdin",
     "output_type": "stream",
     "text": [
      " whould you like to continue with the result as first number ? no\n"
     ]
    }
   ],
   "source": [
    "def add (x,y):\n",
    "    return(x+y)\n",
    "def substract (x,y):\n",
    "    return(x-y)\n",
    "def multiply (x,y) :\n",
    "    return(x*y)\n",
    "def divide(x,y):\n",
    "    while True:\n",
    "        if y == 0:\n",
    "            print(\"Error, please enter another non zero divisor\")\n",
    "            y = float(input(\"Enter a non zero divisor\"))\n",
    "        else :\n",
    "            return(x/y)\n",
    "operations = { \"+\": add ,  \"-\": substract, \"*\": multiply ,\"/\": divide} \n",
    "\n",
    "def calculator() :\n",
    "    num1 = float(input (\"Insert the first number: \"))\n",
    "    print (\" The available operations are : \")\n",
    "    for key in operations.keys() :\n",
    "        print (key)\n",
    "    should_cotinue = True\n",
    "    while True :\n",
    "        operation = input (\"Select an operation symbol\")\n",
    "        if operation not in operations :\n",
    "            print(\" Operation invalid! Please choose from available operations.\")\n",
    "            continue\n",
    "        num2 = float(input(\"Select the second number\"))  \n",
    "        calculate_function = operations[operation]\n",
    "        answer = calculate_function(num1,num2)\n",
    "        print(f\"{num1} {operation} {num2} = {answer}\")\n",
    "        choice = input (\" whould you like to continue with the result as first number ?\")\n",
    "        if choice.lower == \"yes\" :\n",
    "            num1 = answer\n",
    "        else :\n",
    "            should_continue = False\n",
    "            calculator()\n",
    "\n",
    "calculator()\n",
    "    \n",
    "            \n",
    "    "
   ]
  },
  {
   "cell_type": "code",
   "execution_count": null,
   "id": "505607f9-2019-455c-89ed-ad7e2dc68df4",
   "metadata": {},
   "outputs": [],
   "source": []
  }
 ],
 "metadata": {
  "kernelspec": {
   "display_name": "Python 3 (ipykernel)",
   "language": "python",
   "name": "python3"
  },
  "language_info": {
   "codemirror_mode": {
    "name": "ipython",
    "version": 3
   },
   "file_extension": ".py",
   "mimetype": "text/x-python",
   "name": "python",
   "nbconvert_exporter": "python",
   "pygments_lexer": "ipython3",
   "version": "3.11.7"
  }
 },
 "nbformat": 4,
 "nbformat_minor": 5
}
